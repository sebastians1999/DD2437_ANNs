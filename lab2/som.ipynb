{
 "cells": [
  {
   "cell_type": "markdown",
   "id": "cc662603-9b6a-4167-9e5a-b0493ed2973c",
   "metadata": {},
   "source": [
    "## 4.1 Topological Ordering of Animal Species"
   ]
  },
  {
   "cell_type": "code",
   "execution_count": 6,
   "id": "f44af41a-513f-4ae2-9ba3-1d2a1d243558",
   "metadata": {},
   "outputs": [],
   "source": [
    "import numpy as np"
   ]
  },
  {
   "cell_type": "markdown",
   "id": "21670a42-6454-4a43-b54f-1fbd7a541612",
   "metadata": {},
   "source": [
    "### Load the data"
   ]
  },
  {
   "cell_type": "code",
   "execution_count": 146,
   "id": "6537c9e6-539d-4722-be59-4f4e9692e780",
   "metadata": {},
   "outputs": [
    {
     "name": "stdout",
     "output_type": "stream",
     "text": [
      "ape\t\n",
      "ape\n",
      "1\n"
     ]
    }
   ],
   "source": [
    "file_path_animal_data = 'data/animals.dat'\n",
    "file_path_animal_names = 'data/animalnames.txt'\n",
    "file_path_animal_attributes = 'data/animalattributes.txt'\n",
    "\n",
    "num_animals = 32\n",
    "num_attrs = 84\n",
    "\n",
    "# Open file and read in the array from string to int\n",
    "raw_data = []\n",
    "with open(file_path_animal_data, 'r') as file:\n",
    "    for line in file:\n",
    "        raw_data = list(map(int, line.split(',')))\n",
    "        # It should only be a single line but just in case\n",
    "        break\n",
    "animal_data = np.array(raw_data).reshape(num_animals, num_attrs)\n",
    "\n",
    "# Sanity check that we did the reshaping right\n",
    "for i in range(num_animals):\n",
    "    for j in range(num_attrs):\n",
    "        if raw_data[num_attrs*i + j] != data[i, j]:\n",
    "            print(\"Error, reshape incorrect!\")\n",
    "\n",
    "# Make translating dictionaries to be lazy later\n",
    "int_to_animal = []\n",
    "animal_to_int = {}\n",
    "with open(file_path_animal_names, 'r') as file:\n",
    "    for line in file:\n",
    "        # Make sure we remove unwanted stuff\n",
    "        name = line.strip(\"\\n\").replace(\"'\", \"\")\n",
    "        animal_to_int[name] = len(int_to_animal)\n",
    "        int_to_animal.append(name)\n",
    "\n",
    "# Fun little fact, some type of messed up formatting\n",
    "if int_to_animal[1] != \"ape\":\n",
    "    print(int_to_animal[1])\n",
    "    print(\"ape\")\n",
    "    print(animal_to_int[int_to_animal[1]])\n",
    "\n",
    "\n",
    "# Make more translating dictionaries to be lazy later\n",
    "int_to_attr = []\n",
    "attr_to_int = {}\n",
    "with open(file_path_animal_attributes, 'r') as file:\n",
    "    for line in file:\n",
    "        # Make sure we remove unwanted stuff\n",
    "        name = line.strip(\"\\n\")\n",
    "        attr_to_int[name] = len(int_to_attr)\n",
    "        int_to_attr.append(name)"
   ]
  },
  {
   "cell_type": "markdown",
   "id": "71855afe-f0c6-4519-a015-d7a3a265c6c4",
   "metadata": {},
   "source": [
    "### Train the W"
   ]
  },
  {
   "cell_type": "code",
   "execution_count": 173,
   "id": "ae1a0818-e71d-4986-8701-2f96181e8f76",
   "metadata": {},
   "outputs": [],
   "source": [
    "# Init W and start training\n",
    "W = np.random.uniform(size=(100, 84))\n",
    "num_epochs = 20\n",
    "eta = 0.2\n",
    "\n",
    "# Function that reduces the number of neighbours linearly\n",
    "def get_neighbours_lin(epoch, winner, max_epoch=20, initial=50, last=0, max_ind=99, min_ind=0):\n",
    "    step = (initial - last) / max_epoch\n",
    "    # Maybe don't want to divide by 2 - unclear exactly what lab instructions mean\n",
    "    current = int((initial - step * epoch)/2)\n",
    "    lower = max(winner - current, min_ind)\n",
    "    upper = min(winner + current, max_ind)\n",
    "    return np.arange(lower, upper + 1)\n",
    "\n",
    "for epoch in range(num_epochs):\n",
    "    for ani in range(num_animals):\n",
    "        winner = np.argmin(np.linalg.norm(W - animal_data[ani], axis=1))\n",
    "        # Same thing as below\n",
    "        #test = np.argmin(np.sum(np.power(W - animal_data[ani], 2), axis=0))\n",
    "        to_update = get_neighbours_lin(epoch, winner, initial=50, last=0)\n",
    "        \n",
    "        # Wish this worked:(\n",
    "        #W[to_update]  += eta*(animal_data[ani] - W[to_update])\n",
    "\n",
    "        # But do the update with an ugly for loop instead\n",
    "        for i in range(to_update.size):\n",
    "            W[to_update[i]] = W[to_update[i]] + eta*(animal_data[ani] - W[to_update[i]])"
   ]
  },
  {
   "cell_type": "markdown",
   "id": "2f5df4fb-ec21-49d2-a65b-c1f3a780e7f1",
   "metadata": {},
   "source": [
    "### Do the inference"
   ]
  },
  {
   "cell_type": "code",
   "execution_count": 174,
   "id": "0f59637b-fe1e-42fc-b8da-22fecdf1bacb",
   "metadata": {},
   "outputs": [
    {
     "name": "stdout",
     "output_type": "stream",
     "text": [
      "giraffe\t\n",
      "pig\t\n",
      "camel\t\n",
      "horse\n",
      "antelop\t\n",
      "elephant\t\n",
      "kangaroo\t\n",
      "rabbit\t\n",
      "rat\t\n",
      "bat\t\n",
      "cat\t\n",
      "lion\t\n",
      "ape\t\n",
      "skunk\t\n",
      "hyena\t\n",
      "dog\t\n",
      "bear\t\n",
      "walrus\n",
      "crocodile\t\n",
      "seaturtle\t\n",
      "frog\t\n",
      "ostrich\t\n",
      "penguin\t\n",
      "duck\t\n",
      "pelican\t\n",
      "dragonfly\t\n",
      "grasshopper\t\n",
      "beetle\t\n",
      "butterfly\t\n",
      "moskito\t\n",
      "housefly\n",
      "spider\t\n"
     ]
    }
   ],
   "source": [
    "# Add each winner per animal\n",
    "ani_to_som = np.zeros(num_animals)\n",
    "for ani in range(num_animals):\n",
    "    ani_to_som[ani] = np.argmin(np.linalg.norm(W - animal_data[ani], axis=1))\n",
    "\n",
    "# Get a list of indices which would return a sort array\n",
    "sorted_inds = np.argsort(ani_to_som)\n",
    "for ani in range(num_animals):\n",
    "    print(int_to_animal[sorted_inds[ani]])"
   ]
  },
  {
   "cell_type": "markdown",
   "id": "8163f471-da24-4ec7-be2e-3bee26c86749",
   "metadata": {},
   "source": [
    "## 4.3 Cyclic Tour"
   ]
  },
  {
   "cell_type": "markdown",
   "id": "44557616-81a1-475f-ac8e-fe0c9ba0a258",
   "metadata": {},
   "source": [
    "### Load the data"
   ]
  },
  {
   "cell_type": "code",
   "execution_count": 123,
   "id": "62851f6d-0021-442c-9356-02bccd4a4c2e",
   "metadata": {},
   "outputs": [],
   "source": [
    "file_path_cities = \"data/cities.dat\"\n",
    "\n",
    "cities = np.zeros((10, 2))\n",
    "with open(file_path_cities, 'r') as file:\n",
    "    lines = file.readlines()\n",
    "    # Pick the last rows with actual data and extract floats\n",
    "    for i, line in enumerate(lines[-10:]):\n",
    "        c_data = line.split(',')\n",
    "        c_data[1] = c_data[1].replace(\";\\n\", \"\")\n",
    "        cities[i] = np.array(list(map(float, c_data)))"
   ]
  },
  {
   "cell_type": "markdown",
   "id": "bd24c084-d572-46d8-856a-4ad13ecd0752",
   "metadata": {},
   "source": [
    "### Train the W"
   ]
  },
  {
   "cell_type": "code",
   "execution_count": 354,
   "id": "ae63ef39-d5cb-4302-ad18-eeecfecb7d6f",
   "metadata": {},
   "outputs": [],
   "source": [
    "W = np.random.uniform(size=(10, 2)) #/ 2 + 0.5\n",
    "'''\n",
    "x1 = np.linspace(0.2, 0.8, num=5).reshape(5, 1)\n",
    "x2_0 = np.ones((5,1)) * 0.3\n",
    "x2_1 = np.ones((5,1)) * 0.7\n",
    "w_0 = np.hstack((x1, x2_0))\n",
    "w_1 = np.hstack((np.flip(x1), x2_1))\n",
    "W = np.vstack((w_0, w_1))\n",
    "'''\n",
    "num_epochs = 20\n",
    "eta = 0.2\n",
    "\n",
    "# Function that reduces the number of neighbours linearly\n",
    "def get_neighbours_lin_circular(epoch, winner, max_epoch=20, initial=2, last=0, max_ind=9, min_ind=0):\n",
    "    step = (initial - last) / max_epoch\n",
    "    current = int(round((initial - step * epoch)))\n",
    "    '''\n",
    "    if epoch < 3:\n",
    "        current = 2\n",
    "    elif epoch < 12:\n",
    "        current = 1\n",
    "    else:\n",
    "        current = 0\n",
    "    '''\n",
    "    lower = winner - current\n",
    "    upper = winner + current\n",
    "    ret = np.arange(lower, upper + 1)\n",
    "    # negative indices is fine but not out of bounds indices\n",
    "    ret = np.where(ret <= max_ind, ret, ret - (max_ind + 1)) \n",
    "    return ret\n",
    "\n",
    "for epoch in range(num_epochs):\n",
    "    for c in range(10):\n",
    "        winner = np.argmin(np.linalg.norm(W - cities[c], axis=1))\n",
    "        # Same thing as below\n",
    "        #test = np.argmax(np.sum(np.power(W - animal_data[ani], 2), axis=0))\n",
    "        to_update = get_neighbours_lin_circular(epoch, winner, initial=2, last=0, max_epoch=num_epochs)\n",
    "        \n",
    "        # Wish this worked:(\n",
    "        #W[to_update]  += eta*(animal_data[ani] - W[to_update])\n",
    "\n",
    "        # But do the update with an ugly for loop instead\n",
    "        for i in range(to_update.size):\n",
    "            W[to_update[i]] = W[to_update[i]] + eta*(cities[c] - W[to_update[i]])\n",
    "        #print(\"Update {}\".format(to_update))"
   ]
  },
  {
   "cell_type": "markdown",
   "id": "acc0a1a9-ae03-4ec2-98ff-b9af10c21b10",
   "metadata": {},
   "source": [
    "### Do the inference"
   ]
  },
  {
   "cell_type": "code",
   "execution_count": 355,
   "id": "94644d32-a9bb-4ad0-abd9-cc948e32ef4e",
   "metadata": {},
   "outputs": [
    {
     "name": "stdout",
     "output_type": "stream",
     "text": [
      "[9. 1. 1. 8. 7. 5. 5. 4. 3. 3.]\n",
      "[[0.25508842 0.25867071]\n",
      " [0.20386285 0.19261833]\n",
      " [0.4706008  0.23305506]\n",
      " [0.64688906 0.26629419]\n",
      " [0.80531198 0.36275019]\n",
      " [0.77363935 0.57076836]\n",
      " [0.71404603 0.77341035]\n",
      " [0.47717477 0.9139015 ]\n",
      " [0.28258686 0.75792297]\n",
      " [0.36801868 0.49922298]]\n",
      "[0.2351792  0.31876678 0.22235121 0.30413488 0.4133559  0.39459086\n",
      " 0.45519444 0.47629544 0.33525553 0.06390178]\n"
     ]
    }
   ],
   "source": [
    "# Add each winner per animal\n",
    "city_to_som = np.zeros(10)\n",
    "for c in range(10):\n",
    "    city_to_som[c] = np.argmin(np.linalg.norm(W - cities[c], axis=1))\n",
    "print(city_to_som)\n",
    "print(W)\n",
    "print(np.linalg.norm(W - cities[0], axis=1))"
   ]
  },
  {
   "cell_type": "markdown",
   "id": "74d584a0-2a8b-482f-b168-7c2cf4c4a157",
   "metadata": {},
   "source": [
    "### Do some fancy plots"
   ]
  },
  {
   "cell_type": "code",
   "execution_count": 356,
   "id": "41a53166-fa8c-42c2-8bab-d0ce68d50282",
   "metadata": {},
   "outputs": [
    {
     "data": {
      "image/png": "[encoded data removed]",
      "text/plain": [
       "<Figure size 640x480 with 1 Axes>"
      ]
     },
     "metadata": {},
     "output_type": "display_data"
    }
   ],
   "source": [
    "import matplotlib.pyplot as plt\n",
    "\n",
    "plt.scatter(cities[:, 0], cities[:, 1], color=\"blue\", label=\"Cities\")\n",
    "plt.scatter(W[:, 0], W[:, 1], color=\"red\", label=\"Nodes\")\n",
    "plt.plot(W[:, 0], W[:, 1], color=\"green\", label=\"Route\")\n",
    "plt.plot(W[[9, 0], 0], W[[9, 0], 1], color=\"green\")\n",
    "plt.xlabel(\"x1\")\n",
    "plt.ylabel(\"x2\")\n",
    "plt.legend()\n",
    "plt.show()"
   ]
  },
  {
   "cell_type": "markdown",
   "id": "083bf8f7-d8f7-4b8e-b6cb-2d99641ba23b",
   "metadata": {},
   "source": [
    "#### Justification\n",
    "Don't panic about there not being a perfect one-to-one mapping between node and city - at least that's what I tell myself. The route is more of a guideline in what direction to visit the city, since dead nodes and other CL problems make a perfect solution infeasible."
   ]
  },
  {
   "cell_type": "markdown",
   "id": "c244131c-4efd-4491-a3d7-8cb912d4c8f5",
   "metadata": {},
   "source": [
    "## 4.3 Data Clustering: Votes of MPs"
   ]
  },
  {
   "cell_type": "markdown",
   "id": "b6516938-c771-41b8-aace-1d387f54feb6",
   "metadata": {},
   "source": [
    "### Load the data"
   ]
  },
  {
   "cell_type": "code",
   "execution_count": 358,
   "id": "f3432e96-7391-48ab-a3b1-e35f4019dfb9",
   "metadata": {},
   "outputs": [],
   "source": [
    "file_path_votes = \"data/votes.dat\"\n",
    "file_path_party = \"data/mpparty.dat\"\n",
    "file_path_gender = \"data/mpsex.dat\"\n",
    "file_path_district = \"data/mpdistrict.dat\"\n",
    "\n",
    "\n",
    "# Open file and read in the votes from string to int\n",
    "raw_data = []\n",
    "with open(file_path_votes, 'r') as file:\n",
    "    for line in file:\n",
    "        raw_data = list(map(float, line.split(',')))\n",
    "        # It should only be a single line but just in case\n",
    "        break\n",
    "votes_data = np.array(raw_data).reshape(349, 31)\n",
    "\n",
    "# Read in party affiliation\n",
    "party = np.zeros(349)\n",
    "with open(file_path_party, 'r') as file:\n",
    "    lines = file.readlines()\n",
    "    # Pick the last rows with actual data and extract floats\n",
    "    for i, line in enumerate(lines[-349:]):\n",
    "        p_data = line.strip()\n",
    "        party[i] = np.array(int(p_data))\n",
    "\n",
    "# Read in gender affiliation\n",
    "gender = np.zeros(349)\n",
    "with open(file_path_gender, 'r') as file:\n",
    "    lines = file.readlines()\n",
    "    # Pick the last rows with actual data and extract ints\n",
    "    for i, line in enumerate(lines[-349:]):\n",
    "        g_data = line.strip()\n",
    "        gender[i] = np.array(int(g_data))\n",
    "\n",
    "# Read in district affiliation\n",
    "district = np.zeros(349)\n",
    "with open(file_path_district, 'r') as file:\n",
    "    lines = file.readlines()\n",
    "    # Pick the last rows with actual data and extract ints\n",
    "    for i, line in enumerate(lines[-349:]):\n",
    "        d_data = line.strip()\n",
    "        district[i] = np.array(int(d_data))"
   ]
  },
  {
   "cell_type": "markdown",
   "id": "3293f6f6-58d2-4e13-b375-b7532f9be46e",
   "metadata": {},
   "source": [
    "### Train the W"
   ]
  },
  {
   "cell_type": "code",
   "execution_count": 374,
   "id": "e114a073-e7fc-43a9-bab6-ec834e364ca5",
   "metadata": {},
   "outputs": [],
   "source": [
    "W = np.random.uniform(size=(10, 10, 31))\n",
    "\n",
    "num_epochs = 20\n",
    "eta = 0.2\n",
    "\n",
    "# Function that reduces the number of neighbours linearly\n",
    "def get_neighbours_lin_square(epoch, winner, max_epoch=20, initial=2, last=0, max_ind=9, min_ind=0):\n",
    "    step = (initial - last) / max_epoch\n",
    "    # Square root since we are now in 2d squares\n",
    "    current = int(round(initial - step * epoch))\n",
    "\n",
    "    # Get winner row and column - note, very much hardcoded\n",
    "    row = int(winner/10)\n",
    "    \n",
    "    lower_row = max(row - current, min_ind)\n",
    "    upper_row = min(row + current, max_ind)\n",
    "    rows = np.arange(lower_row, upper_row + 1)\n",
    "\n",
    "    col = winner % 10\n",
    "    lower_col = max(col - current, min_ind)\n",
    "    upper_col = min(col + current, max_ind)\n",
    "    cols = np.arange(lower_col, upper_col + 1)\n",
    "\n",
    "    # Beats me why we need to transpose it to properly get all combos but oh well\n",
    "    ret = np.array(np.meshgrid(rows, cols)).T.reshape((-1, 2))\n",
    "    return ret\n",
    "\n",
    "\n",
    "for epoch in range(num_epochs):\n",
    "    for mp in range(349):\n",
    "        winner = np.argmin(np.linalg.norm(W.reshape(100, 31) - votes_data[mp], axis=1))\n",
    "        to_update = get_neighbours_lin_square(epoch, winner, initial=2, last=0, max_epoch=num_epochs)\n",
    "\n",
    "        # Do the update with an ugly for loop instead\n",
    "        for i in range(to_update.shape[0]):\n",
    "            W[to_update[i, 0], to_update[i, 1]] = W[to_update[i, 0], to_update[i, 1]] + eta*(votes_data[mp] - W[to_update[i, 0], to_update[i, 1]])\n",
    "        #print(\"Update {}\".format(to_update))"
   ]
  },
  {
   "cell_type": "markdown",
   "id": "24675400-8302-41c7-8b88-496c3fcbdf57",
   "metadata": {},
   "source": [
    "### Do the inference"
   ]
  },
  {
   "cell_type": "code",
   "execution_count": 383,
   "id": "2836e529-b8ac-41a7-80f4-47046238cbe3",
   "metadata": {},
   "outputs": [],
   "source": [
    "# Add each winner per animal\n",
    "mp_to_som = np.zeros((349, 2))\n",
    "for mp in range(349):\n",
    "    winner_ind = np.argmin(np.linalg.norm(W.reshape(100, 31) - votes_data[mp], axis=1))\n",
    "    mp_to_som[mp] = np.array([winner_ind // 10, winner_ind % 10])\n",
    "mp_to_som = mp_to_som.astype(int)"
   ]
  },
  {
   "cell_type": "markdown",
   "id": "a6c6094b-61d1-4499-a9da-1a347cd30999",
   "metadata": {},
   "source": [
    "### Do some really fancy plotting"
   ]
  },
  {
   "cell_type": "markdown",
   "id": "4754593f-ce00-4699-8b51-455c0786581d",
   "metadata": {},
   "source": [
    "#### Party affiliation"
   ]
  },
  {
   "cell_type": "code",
   "execution_count": 410,
   "id": "034007c3-41be-4587-b3b0-20a279c08842",
   "metadata": {},
   "outputs": [
    {
     "name": "stdout",
     "output_type": "stream",
     "text": [
      "[[1 1 1 0 1 0 1 0 2 2]\n",
      " [1 0 0 0 1 0 0 0 0 0]\n",
      " [0 0 3 0 4 0 2 2 2 2]\n",
      " [3 0 3 0 3 0 0 0 2 2]\n",
      " [3 3 3 0 3 7 0 0 0 0]\n",
      " [3 3 0 0 0 0 3 0 7 7]\n",
      " [3 3 0 3 0 0 0 6 7 7]\n",
      " [3 3 0 0 0 4 0 6 7 7]\n",
      " [0 0 5 5 4 4 0 0 0 6]\n",
      " [3 0 5 0 4 4 3 6 0 6]]\n"
     ]
    },
    {
     "name": "stderr",
     "output_type": "stream",
     "text": [
      "/tmp/ipykernel_2651/927370532.py:16: UserWarning: set_ticklabels() should only be used with a fixed number of ticks, i.e. after set_ticks() or using a FixedLocator.\n",
      "  colorbar.set_ticklabels([\"no party\", \"m\", \"fp\", \"s\", \"v\", \"mp\", \"kd\", \"c\"])\n"
     ]
    },
    {
     "data": {
      "image/png": "[encoded data removed]",
      "text/plain": [
       "<Figure size 640x480 with 2 Axes>"
      ]
     },
     "metadata": {},
     "output_type": "display_data"
    }
   ],
   "source": [
    "import seaborn as sns\n",
    "import matplotlib\n",
    "\n",
    "# First create a messy tensor to see for each grid which party had most votes\n",
    "mp_party_nums = np.zeros((10, 10, 8))\n",
    "party = party.astype(int)\n",
    "# Then iterate through every mp\n",
    "for mp in range(349):\n",
    "    mp_party_nums[mp_to_som[mp, 0], mp_to_som[mp, 1], party[mp]] += 1\n",
    "grid_majority = np.argmax(mp_party_nums, axis=2)\n",
    "print(grid_majority)\n",
    "cmap = matplotlib.colors.ListedColormap([\"gainsboro\",\"deepskyblue\",\"cornflowerblue\", \"red\", \"firebrick\", \"lime\", \"blue\", \"green\"])\n",
    "\n",
    "ax = sns.heatmap(grid_majority, cmap=cmap)\n",
    "colorbar = ax.collections[0].colorbar\n",
    "colorbar.set_ticklabels([\"no party\", \"m\", \"fp\", \"s\", \"v\", \"mp\", \"kd\", \"c\"])\n",
    "#plt.legend(labels=[\"no party\", \"m\", \"fp\", \"s\", \"v\", \"mp\", \"kd\", \"c\"], loc='upper left', bbox_to_anchor=(1, 1))\n",
    "plt.show()"
   ]
  },
  {
   "cell_type": "markdown",
   "id": "965dc86c-1260-4b74-8235-bc754760cff1",
   "metadata": {},
   "source": [
    "#### Gender"
   ]
  },
  {
   "cell_type": "code",
   "execution_count": 419,
   "id": "583d4541-8a60-40a7-89db-9ba6b2330e4f",
   "metadata": {},
   "outputs": [
    {
     "name": "stderr",
     "output_type": "stream",
     "text": [
      "/tmp/ipykernel_2651/2577393305.py:8: RuntimeWarning: invalid value encountered in divide\n",
      "  grid_majority = mp_gender_tot / mp_gender_counter\n"
     ]
    },
    {
     "name": "stdout",
     "output_type": "stream",
     "text": [
      "[[0.46875    0.         0.27272727        nan 0.33333333        nan\n",
      "  0.66666667        nan 0.57142857 1.        ]\n",
      " [0.                nan        nan        nan 1.                nan\n",
      "         nan        nan        nan        nan]\n",
      " [       nan        nan 0.66666667        nan 1.                nan\n",
      "  0.42857143 1.         0.5        0.38461538]\n",
      " [0.16666667        nan 1.                nan 0.5               nan\n",
      "         nan        nan 1.         0.66666667]\n",
      " [1.         1.         0.5               nan 1.         0.\n",
      "         nan        nan        nan        nan]\n",
      " [0.5        0.                nan        nan        nan        nan\n",
      "  0.77777778        nan 0.         0.25      ]\n",
      " [0.         0.50961538        nan 0.5               nan        nan\n",
      "         nan 0.         0.         0.7       ]\n",
      " [1.         0.                nan        nan        nan 0.66666667\n",
      "         nan 0.75       0.         0.5       ]\n",
      " [       nan        nan 0.33333333 0.         0.5        0.6\n",
      "         nan        nan        nan 0.42857143]\n",
      " [0.                nan 0.625             nan 0.3        0.6\n",
      "  1.         0.                nan 0.26666667]]\n"
     ]
    },
    {
     "data": {
      "image/png": "[encoded data removed]",
      "text/plain": [
       "<Figure size 640x480 with 2 Axes>"
      ]
     },
     "metadata": {},
     "output_type": "display_data"
    }
   ],
   "source": [
    "# First create a messy tensor to see for each grid which gender had most votes\n",
    "mp_gender_tot = np.zeros((10, 10))\n",
    "mp_gender_counter = np.zeros((10, 10))\n",
    "# Then iterate through every mp\n",
    "for mp in range(349):\n",
    "    mp_gender_tot[mp_to_som[mp, 0], mp_to_som[mp, 1]] +=  gender[mp]\n",
    "    mp_gender_counter[mp_to_som[mp, 0], mp_to_som[mp, 1]] += 1\n",
    "grid_majority = mp_gender_tot / mp_gender_counter\n",
    "print(grid_majority)\n",
    "cmap = matplotlib.colors.LinearSegmentedColormap.from_list(\"\", [\"blue\", \"red\"])\n",
    "\n",
    "ax = sns.heatmap(grid_majority, cmap=cmap)\n",
    "colorbar = ax.collections[0].colorbar\n",
    "colorbar.set_ticks([0, 1])\n",
    "colorbar.set_ticklabels([\"male\", \"female\"])\n",
    "#plt.legend(labels=[\"no party\", \"m\", \"fp\", \"s\", \"v\", \"mp\", \"kd\", \"c\"], loc='upper left', bbox_to_anchor=(1, 1))\n",
    "plt.show()"
   ]
  },
  {
   "cell_type": "markdown",
   "id": "a7770b1b-675d-4f35-8250-dbb0d2aaaf6a",
   "metadata": {},
   "source": [
    "#### District"
   ]
  },
  {
   "cell_type": "code",
   "execution_count": 425,
   "id": "b5b6b21a-1989-4b1c-85b1-09bd3f34dea3",
   "metadata": {},
   "outputs": [
    {
     "name": "stdout",
     "output_type": "stream",
     "text": [
      "[[ 1  3  5  0  1  0  1  0  1  3]\n",
      " [29  0  0  0 28  0  0  0  0  0]\n",
      " [ 0  0  2  0  6  0  1  2  4  2]\n",
      " [ 5  0 21  0  7  0  0  0  2  5]\n",
      " [ 8  4 16  0  2 19  0  0  0  0]\n",
      " [ 1  1  0  0  0  0  2  0 23  2]\n",
      " [19  2  0 13  0  0  0  6 27  3]\n",
      " [23 28  0  0  0 21  0  2 24 13]\n",
      " [ 0  0 18  1  5  4  0  0  0  1]\n",
      " [ 4  0  2  0  1  1  2  3  0  1]]\n"
     ]
    },
    {
     "data": {
      "image/png": "[encoded data removed]",
      "text/plain": [
       "<Figure size 640x480 with 2 Axes>"
      ]
     },
     "metadata": {},
     "output_type": "display_data"
    }
   ],
   "source": [
    "# First create a messy tensor to see for each grid which party had most votes\n",
    "mp_dist_nums = np.zeros((10, 10, 30))\n",
    "district = district.astype(int)\n",
    "# Then iterate through every mp\n",
    "for mp in range(349):\n",
    "    mp_dist_nums[mp_to_som[mp, 0], mp_to_som[mp, 1], district[mp]] += 1\n",
    "grid_majority = np.argmax(mp_dist_nums, axis=2)\n",
    "print(grid_majority)\n",
    "#cmap = matplotlib.colors.ListedColormap([\"gainsboro\",\"deepskyblue\",\"cornflowerblue\", \"red\", \"firebrick\", \"lime\", \"blue\", \"green\"])\n",
    "cmap = sns.color_palette(\"Spectral\", as_cmap=True)\n",
    "ax = sns.heatmap(grid_majority, cmap=cmap)\n",
    "\n",
    "#plt.legend(labels=[\"no party\", \"m\", \"fp\", \"s\", \"v\", \"mp\", \"kd\", \"c\"], loc='upper left', bbox_to_anchor=(1, 1))\n",
    "plt.show()"
   ]
  },
  {
   "cell_type": "code",
   "execution_count": null,
   "id": "d90ab6b2-79af-44b5-8c95-bb0c1e0121a9",
   "metadata": {},
   "outputs": [],
   "source": []
  }
 ],
 "metadata": {
  "kernelspec": {
   "display_name": "Python 3 (ipykernel)",
   "language": "python",
   "name": "python3"
  },
  "language_info": {
   "codemirror_mode": {
    "name": "ipython",
    "version": 3
   },
   "file_extension": ".py",
   "mimetype": "text/x-python",
   "name": "python",
   "nbconvert_exporter": "python",
   "pygments_lexer": "ipython3",
   "version": "3.10.12"
  }
 },
 "nbformat": 4,
 "nbformat_minor": 5
}
