{
 "cells": [
  {
   "cell_type": "markdown",
   "id": "4c4e2296-4788-46a1-8ca4-1b031df41234",
   "metadata": {},
   "source": [
    "## Task 3.1 Convergence and attractors"
   ]
  },
  {
   "cell_type": "code",
   "execution_count": 70,
   "id": "e6f5af46-63bf-4e27-b963-f0dc2880d377",
   "metadata": {},
   "outputs": [],
   "source": [
    "import numpy as np"
   ]
  },
  {
   "cell_type": "markdown",
   "id": "13b65c7c-8ba7-463c-98d6-81e5cf9275b5",
   "metadata": {},
   "source": [
    "#### Initialize some data from lab instructions"
   ]
  },
  {
   "cell_type": "code",
   "execution_count": 71,
   "id": "a58558a0-ba38-41ee-8424-8435feb38ea4",
   "metadata": {},
   "outputs": [],
   "source": [
    "x1=np.array([-1, -1, 1, -1, 1, -1, -1, 1])\n",
    "x2=np.array([-1, -1, -1, -1, -1, 1, -1, -1])\n",
    "x3=np.array([-1, 1, 1, -1, -1, 1, -1, 1])\n",
    "\n",
    "x1d=np.array([ 1, -1, 1, -1, 1, -1, -1, 1])\n",
    "x2d=np.array([ 1, 1, -1, -1, -1, 1, -1, -1])\n",
    "x3d=np.array([ 1, 1, 1, -1, 1, 1, -1, 1,])"
   ]
  },
  {
   "cell_type": "markdown",
   "id": "1897b69e-aa5c-4fe0-8c4e-98f880b19c71",
   "metadata": {},
   "source": [
    "#### Synchronous Hopfield - note, all data is in row format"
   ]
  },
  {
   "cell_type": "code",
   "execution_count": 104,
   "id": "6b59bea5-a595-43e5-a209-610b801ae7b9",
   "metadata": {},
   "outputs": [],
   "source": [
    "class Hopfield_net():\n",
    "    def __init__(self, data, sync=True, scale=False):\n",
    "        self.data = data\n",
    "        self.W = np.zeros((data.shape[1], data.shape[1]))\n",
    "        self.scale = scale\n",
    "        self.hebian_learn()\n",
    "\n",
    "    def hebian_learn(self):\n",
    "        for i in range(self.data.shape[0]):\n",
    "            self.W += np.outer(self.data[i], self.data[i])\n",
    "        if self.scale:\n",
    "            self.W /= self.data.shape[0]\n",
    "    \n",
    "    def recall_sync(self, dp):\n",
    "        recall_prev = dp\n",
    "        recall = np.sign(np.matmul(dp, self.W))\n",
    "        # Numpy sign sets sign of 0 to 0 - change it to 1\n",
    "        recall = np.where(recall == 0, 1, recall)\n",
    "        while not np.array_equal(recall, recall_prev):\n",
    "            recall_prev = recall\n",
    "            recall = np.sign(np.matmul(recall, self.W))\n",
    "            recall = np.where(recall == 0, 1, recall)\n",
    "        return recall.astype(int)\n",
    "\n",
    "    def recall_seq(self, dp):\n",
    "        pass\n",
    "\n",
    "def test_recall_sync(data, data_dist, test_net=None):\n",
    "    if test_net is None:\n",
    "        test_net = Hopfield_net(data)\n",
    "    for i in range(data.shape[0]):\n",
    "        recalled = test_net.recall_sync(data_dist[i])\n",
    "        did_recall = np.array_equal(data[i], recalled)\n",
    "        print(\"x{} recalled properly: {}\".format(i + 1, did_recall))\n",
    "        if not did_recall:\n",
    "            print(\"\\torig: {}\".format(np.array2string(data[i])))\n",
    "            print(\"\\tdist: {}\".format(np.array2string(data_dist[i])))\n",
    "            print(\"\\trecl: {}\".format(np.array2string(recalled)))\n",
    "        "
   ]
  },
  {
   "cell_type": "markdown",
   "id": "719f132f-34bb-474d-ba39-5bc402acf274",
   "metadata": {},
   "source": [
    "##### Some sanity checks"
   ]
  },
  {
   "cell_type": "code",
   "execution_count": 105,
   "id": "e2f152c6-364b-428e-a3be-f8cad96ffb5a",
   "metadata": {},
   "outputs": [
    {
     "name": "stdout",
     "output_type": "stream",
     "text": [
      "x1 recalled properly: True\n",
      "x2 recalled properly: True\n",
      "x3 recalled properly: True\n"
     ]
    }
   ],
   "source": [
    "data = np.vstack((x1, x2, x3))\n",
    "test_recall_sync(data, data)"
   ]
  },
  {
   "cell_type": "markdown",
   "id": "19727eba-b889-46e5-8b05-6c6b13bf88ee",
   "metadata": {},
   "source": [
    "###  Actual 3.1"
   ]
  },
  {
   "cell_type": "markdown",
   "id": "ad998302-f311-453d-8731-de539f4957f8",
   "metadata": {},
   "source": [
    "#### Check convergence of distorted data points"
   ]
  },
  {
   "cell_type": "code",
   "execution_count": 106,
   "id": "d1c84569-8a4e-422b-9ed1-69efdefc853c",
   "metadata": {},
   "outputs": [
    {
     "name": "stdout",
     "output_type": "stream",
     "text": [
      "x1 recalled properly: True\n",
      "x2 recalled properly: False\n",
      "\torig: [-1 -1 -1 -1 -1  1 -1 -1]\n",
      "\tdist: [ 1  1 -1 -1 -1  1 -1 -1]\n",
      "\trecl: [-1  1 -1 -1 -1  1 -1 -1]\n",
      "x3 recalled properly: True\n"
     ]
    }
   ],
   "source": [
    "data = np.vstack((x1, x2, x3))\n",
    "data_dist = np.vstack((x1d, x2d, x3d))\n",
    "test_recall_sync(data, data_dist)"
   ]
  },
  {
   "cell_type": "markdown",
   "id": "890a8383-31c5-473c-9347-35559c664b40",
   "metadata": {},
   "source": [
    "#### Check for all attractors"
   ]
  },
  {
   "cell_type": "code",
   "execution_count": 107,
   "id": "afc8c3ff-590f-4f8a-bef2-f50ae23f5359",
   "metadata": {},
   "outputs": [],
   "source": [
    "# Please change this if you get a better idea than to brute force it with all possible input vectors\n",
    "def dp_builder(dim):\n",
    "    vec = np.zeros(dim)\n",
    "    return dp_builder_h(dim, vec, 0)\n",
    "def dp_builder_h(dim, curr_vec, curr_ind):\n",
    "    # Need to copy so vec2 does not mess this up later\n",
    "    vec1 = np.copy(curr_vec)\n",
    "    vec1[curr_ind] = 1\n",
    "    # Don't need to copy since no one else will use curr_vec\n",
    "    vec2 = curr_vec\n",
    "    vec2[curr_ind] = -1\n",
    "    # Base case, reached last index of vector\n",
    "    if dim == curr_ind + 1:\n",
    "        return np.vstack((vec1, vec2))\n",
    "    else:\n",
    "        return np.vstack((\n",
    "            dp_builder_h(dim, vec1, curr_ind + 1),\n",
    "            dp_builder_h(dim, vec2, curr_ind + 1)\n",
    "        ))        "
   ]
  },
  {
   "cell_type": "code",
   "execution_count": 108,
   "id": "ce7c6880-a8c6-4e29-a364-8925997bddb2",
   "metadata": {},
   "outputs": [
    {
     "name": "stdout",
     "output_type": "stream",
     "text": [
      "[[-1. -1. -1. -1. -1.  1. -1. -1.]\n",
      " [-1. -1. -1. -1.  1. -1. -1. -1.]\n",
      " [-1. -1.  1. -1. -1.  1. -1.  1.]\n",
      " [-1. -1.  1. -1.  1. -1. -1.  1.]\n",
      " [-1. -1.  1. -1.  1.  1. -1.  1.]\n",
      " [-1.  1. -1. -1. -1.  1. -1. -1.]\n",
      " [-1.  1.  1. -1. -1.  1. -1.  1.]\n",
      " [-1.  1.  1. -1.  1. -1. -1.  1.]\n",
      " [ 1. -1. -1.  1.  1. -1.  1. -1.]\n",
      " [ 1.  1. -1.  1. -1.  1.  1. -1.]\n",
      " [ 1.  1. -1.  1.  1. -1.  1. -1.]\n",
      " [ 1.  1. -1.  1.  1.  1.  1. -1.]\n",
      " [ 1.  1.  1.  1. -1.  1.  1.  1.]\n",
      " [ 1.  1.  1.  1.  1. -1.  1.  1.]]\n",
      "In total 14 attractors\n"
     ]
    }
   ],
   "source": [
    "data = np.vstack((x1, x2, x3))\n",
    "test_net = Hopfield_net(data)\n",
    "all_dp = dp_builder(x1.shape[0])\n",
    "attractors = np.zeros(all_dp.shape)\n",
    "\n",
    "# Brute force it - recall for every possible input vector\n",
    "for i in range(all_dp.shape[0]):\n",
    "    attractors[i] = test_net.recall_sync(all_dp[i])\n",
    "\n",
    "# Remove duplicates\n",
    "attractors = np.unique(attractors, axis=0)\n",
    "print(attractors)\n",
    "print(\"In total {} attractors\".format(attractors.shape[0]))\n",
    "    "
   ]
  },
  {
   "cell_type": "markdown",
   "id": "913101e5-09cd-46c5-8e02-a34337047393",
   "metadata": {},
   "source": [
    "#### Testing even more distorted patterns"
   ]
  },
  {
   "cell_type": "code",
   "execution_count": 112,
   "id": "55055968-430a-4dd3-808b-84ac7ab05794",
   "metadata": {},
   "outputs": [
    {
     "name": "stdout",
     "output_type": "stream",
     "text": [
      "x1 recalled properly: False\n",
      "\torig: [-1 -1  1 -1  1 -1 -1  1]\n",
      "\tdist: [ 1  1 -1  1 -1 -1 -1  1]\n",
      "\trecl: [ 1  1  1  1  1 -1  1  1]\n"
     ]
    }
   ],
   "source": [
    "# Flip first 5 \n",
    "x1_superd=np.copy(x1)\n",
    "for i in range(x1.size // 2 + 1):\n",
    "    x1_superd[i] = x1_superd[i] * -1\n",
    "\n",
    "test_recall_sync(x1.reshape((1, -1)), x1_superd.reshape((1, -1)), test_net)\n",
    "    "
   ]
  },
  {
   "cell_type": "code",
   "execution_count": null,
   "id": "359728ef-5c62-4776-9bc2-d5f0abe3a7b8",
   "metadata": {},
   "outputs": [],
   "source": []
  }
 ],
 "metadata": {
  "kernelspec": {
   "display_name": "Python 3 (ipykernel)",
   "language": "python",
   "name": "python3"
  },
  "language_info": {
   "codemirror_mode": {
    "name": "ipython",
    "version": 3
   },
   "file_extension": ".py",
   "mimetype": "text/x-python",
   "name": "python",
   "nbconvert_exporter": "python",
   "pygments_lexer": "ipython3",
   "version": "3.10.12"
  }
 },
 "nbformat": 4,
 "nbformat_minor": 5
}
