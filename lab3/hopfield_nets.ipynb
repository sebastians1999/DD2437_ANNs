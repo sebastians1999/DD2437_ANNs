{
 "cells": [
  {
   "cell_type": "markdown",
   "id": "4c4e2296-4788-46a1-8ca4-1b031df41234",
   "metadata": {},
   "source": [
    "## Task 3.1 Convergence and attractors"
   ]
  },
  {
   "cell_type": "code",
   "execution_count": 70,
   "id": "e6f5af46-63bf-4e27-b963-f0dc2880d377",
   "metadata": {},
   "outputs": [],
   "source": [
    "import numpy as np"
   ]
  },
  {
   "cell_type": "markdown",
   "id": "13b65c7c-8ba7-463c-98d6-81e5cf9275b5",
   "metadata": {},
   "source": [
    "#### Initialize some data from lab instructions"
   ]
  },
  {
   "cell_type": "code",
   "execution_count": 71,
   "id": "a58558a0-ba38-41ee-8424-8435feb38ea4",
   "metadata": {},
   "outputs": [],
   "source": [
    "x1=np.array([-1, -1, 1, -1, 1, -1, -1, 1])\n",
    "x2=np.array([-1, -1, -1, -1, -1, 1, -1, -1])\n",
    "x3=np.array([-1, 1, 1, -1, -1, 1, -1, 1])\n",
    "\n",
    "x1d=np.array([ 1, -1, 1, -1, 1, -1, -1, 1])\n",
    "x2d=np.array([ 1, 1, -1, -1, -1, 1, -1, -1])\n",
    "x3d=np.array([ 1, 1, 1, -1, 1, 1, -1, 1,])"
   ]
  },
  {
   "cell_type": "markdown",
   "id": "1897b69e-aa5c-4fe0-8c4e-98f880b19c71",
   "metadata": {},
   "source": [
    "#### Synchronous Hopfield - note, all data is in row format"
   ]
  },
  {
   "cell_type": "code",
   "execution_count": 146,
   "id": "6b59bea5-a595-43e5-a209-610b801ae7b9",
   "metadata": {},
   "outputs": [],
   "source": [
    "class Hopfield_net():\n",
    "    def __init__(self, data, scale=False):\n",
    "        self.data = data\n",
    "        self.W = np.zeros((data.shape[1], data.shape[1]))\n",
    "        self.scale = scale\n",
    "        self.hebian_learn()\n",
    "\n",
    "    def hebian_learn(self):\n",
    "        for i in range(self.data.shape[0]):\n",
    "            self.W += np.outer(self.data[i], self.data[i])\n",
    "        if self.scale:\n",
    "            self.W /= self.data.shape[0]\n",
    "\n",
    "    # Numpy sign sets sign of 0 to 0 - change it to 1\n",
    "    def hop_sign(self, dp):\n",
    "        temp = np.sign(dp)\n",
    "        return np.where(temp == 0, 1, temp)\n",
    "    \n",
    "    def recall_sync(self, dp):\n",
    "        recall_prev = dp\n",
    "        recall = self.hop_sign(np.matmul(dp, self.W))\n",
    "        while not np.array_equal(recall, recall_prev):\n",
    "            recall_prev = recall\n",
    "            recall = self.hop_sign(np.matmul(recall, self.W))\n",
    "        return recall.astype(int)\n",
    "\n",
    "    def recall_seq(self, dp, random=False):\n",
    "        order = np.arange(dp.shape[0])\n",
    "        if random:\n",
    "            order = np.random.shuffle(order)\n",
    "        recall_prev = dp\n",
    "        recall = self.seq_update(dp, order)\n",
    "        while not np.array_equal(recall, recall_prev):\n",
    "            if random:\n",
    "                order = np.random.shuffle(order)\n",
    "            recall_prev = recall\n",
    "            recall = self.seq_update(recall, order)\n",
    "        return recall.astype(int)\n",
    "\n",
    "    # Helper func to sequential update - makes one pass of sequential updates for all points\n",
    "    def seq_update(self, recall, order):\n",
    "        for i in range(order.shape[0]):\n",
    "            recall[order[i]] = self.hop_sign(np.matmul(self.W[order[i]], recall.transpose()))\n",
    "        return recall\n",
    "\n",
    "def test_recall_sync(data, data_dist, test_net=None, printout=True):\n",
    "    if test_net is None:\n",
    "        test_net = Hopfield_net(data)\n",
    "    for i in range(data.shape[0]):\n",
    "        recalled = test_net.recall_sync(data_dist[i])\n",
    "        did_recall = np.array_equal(data[i], recalled)\n",
    "        print(\"x{} recalled properly: {}\".format(i + 1, did_recall))\n",
    "        if not did_recall and printout:\n",
    "            print(\"\\torig: {}\".format(np.array2string(data[i])))\n",
    "            print(\"\\tdist: {}\".format(np.array2string(data_dist[i])))\n",
    "            print(\"\\trecl: {}\".format(np.array2string(recalled)))\n",
    "\n",
    "def test_recall_seq(data, data_dist, test_net=None, printout=True):\n",
    "    if test_net is None:\n",
    "        test_net = Hopfield_net(data)\n",
    "    for i in range(data.shape[0]):\n",
    "        recalled = test_net.recall_seq(data_dist[i])\n",
    "        did_recall = np.array_equal(data[i], recalled)\n",
    "        print(\"x{} recalled properly: {}\".format(i + 1, did_recall))\n",
    "        if not did_recall and printout:\n",
    "            print(\"\\torig: {}\".format(np.array2string(data[i])))\n",
    "            print(\"\\tdist: {}\".format(np.array2string(data_dist[i])))\n",
    "            print(\"\\trecl: {}\".format(np.array2string(recalled)))     "
   ]
  },
  {
   "cell_type": "markdown",
   "id": "719f132f-34bb-474d-ba39-5bc402acf274",
   "metadata": {},
   "source": [
    "##### Some sanity checks"
   ]
  },
  {
   "cell_type": "code",
   "execution_count": 134,
   "id": "e2f152c6-364b-428e-a3be-f8cad96ffb5a",
   "metadata": {},
   "outputs": [
    {
     "name": "stdout",
     "output_type": "stream",
     "text": [
      "x1 recalled properly: True\n",
      "x2 recalled properly: True\n",
      "x3 recalled properly: True\n",
      "x1 recalled properly: True\n",
      "x2 recalled properly: True\n",
      "x3 recalled properly: True\n"
     ]
    }
   ],
   "source": [
    "data = np.vstack((x1, x2, x3))\n",
    "test_recall_sync(data, data)\n",
    "test_recall_seq(data, data)"
   ]
  },
  {
   "cell_type": "markdown",
   "id": "19727eba-b889-46e5-8b05-6c6b13bf88ee",
   "metadata": {},
   "source": [
    "###  Actual 3.1"
   ]
  },
  {
   "cell_type": "markdown",
   "id": "ad998302-f311-453d-8731-de539f4957f8",
   "metadata": {},
   "source": [
    "#### Check convergence of distorted data points"
   ]
  },
  {
   "cell_type": "code",
   "execution_count": 135,
   "id": "d1c84569-8a4e-422b-9ed1-69efdefc853c",
   "metadata": {},
   "outputs": [
    {
     "name": "stdout",
     "output_type": "stream",
     "text": [
      "x1 recalled properly: True\n",
      "x2 recalled properly: False\n",
      "\torig: [-1 -1 -1 -1 -1  1 -1 -1]\n",
      "\tdist: [ 1  1 -1 -1 -1  1 -1 -1]\n",
      "\trecl: [-1  1 -1 -1 -1  1 -1 -1]\n",
      "x3 recalled properly: True\n",
      "x1 recalled properly: True\n",
      "x2 recalled properly: False\n",
      "\torig: [-1 -1 -1 -1 -1  1 -1 -1]\n",
      "\tdist: [-1  1 -1 -1 -1  1 -1 -1]\n",
      "\trecl: [-1  1 -1 -1 -1  1 -1 -1]\n",
      "x3 recalled properly: True\n"
     ]
    }
   ],
   "source": [
    "data = np.vstack((x1, x2, x3))\n",
    "data_dist = np.vstack((x1d, x2d, x3d))\n",
    "test_recall_sync(data, data_dist)\n",
    "test_recall_seq(data, data_dist)"
   ]
  },
  {
   "cell_type": "markdown",
   "id": "890a8383-31c5-473c-9347-35559c664b40",
   "metadata": {},
   "source": [
    "#### Check for all attractors"
   ]
  },
  {
   "cell_type": "code",
   "execution_count": 107,
   "id": "afc8c3ff-590f-4f8a-bef2-f50ae23f5359",
   "metadata": {},
   "outputs": [],
   "source": [
    "# Please change this if you get a better idea than to brute force it with all possible input vectors\n",
    "def dp_builder(dim):\n",
    "    vec = np.zeros(dim)\n",
    "    return dp_builder_h(dim, vec, 0)\n",
    "def dp_builder_h(dim, curr_vec, curr_ind):\n",
    "    # Need to copy so vec2 does not mess this up later\n",
    "    vec1 = np.copy(curr_vec)\n",
    "    vec1[curr_ind] = 1\n",
    "    # Don't need to copy since no one else will use curr_vec\n",
    "    vec2 = curr_vec\n",
    "    vec2[curr_ind] = -1\n",
    "    # Base case, reached last index of vector\n",
    "    if dim == curr_ind + 1:\n",
    "        return np.vstack((vec1, vec2))\n",
    "    else:\n",
    "        return np.vstack((\n",
    "            dp_builder_h(dim, vec1, curr_ind + 1),\n",
    "            dp_builder_h(dim, vec2, curr_ind + 1)\n",
    "        ))        "
   ]
  },
  {
   "cell_type": "code",
   "execution_count": 108,
   "id": "ce7c6880-a8c6-4e29-a364-8925997bddb2",
   "metadata": {},
   "outputs": [
    {
     "name": "stdout",
     "output_type": "stream",
     "text": [
      "[[-1. -1. -1. -1. -1.  1. -1. -1.]\n",
      " [-1. -1. -1. -1.  1. -1. -1. -1.]\n",
      " [-1. -1.  1. -1. -1.  1. -1.  1.]\n",
      " [-1. -1.  1. -1.  1. -1. -1.  1.]\n",
      " [-1. -1.  1. -1.  1.  1. -1.  1.]\n",
      " [-1.  1. -1. -1. -1.  1. -1. -1.]\n",
      " [-1.  1.  1. -1. -1.  1. -1.  1.]\n",
      " [-1.  1.  1. -1.  1. -1. -1.  1.]\n",
      " [ 1. -1. -1.  1.  1. -1.  1. -1.]\n",
      " [ 1.  1. -1.  1. -1.  1.  1. -1.]\n",
      " [ 1.  1. -1.  1.  1. -1.  1. -1.]\n",
      " [ 1.  1. -1.  1.  1.  1.  1. -1.]\n",
      " [ 1.  1.  1.  1. -1.  1.  1.  1.]\n",
      " [ 1.  1.  1.  1.  1. -1.  1.  1.]]\n",
      "In total 14 attractors\n"
     ]
    }
   ],
   "source": [
    "data = np.vstack((x1, x2, x3))\n",
    "test_net = Hopfield_net(data)\n",
    "all_dp = dp_builder(x1.shape[0])\n",
    "attractors = np.zeros(all_dp.shape)\n",
    "\n",
    "# Brute force it - recall for every possible input vector\n",
    "for i in range(all_dp.shape[0]):\n",
    "    attractors[i] = test_net.recall_sync(all_dp[i])\n",
    "\n",
    "# Remove duplicates\n",
    "attractors = np.unique(attractors, axis=0)\n",
    "print(attractors)\n",
    "print(\"In total {} attractors\".format(attractors.shape[0]))\n",
    "    "
   ]
  },
  {
   "cell_type": "markdown",
   "id": "913101e5-09cd-46c5-8e02-a34337047393",
   "metadata": {},
   "source": [
    "#### Testing even more distorted patterns"
   ]
  },
  {
   "cell_type": "code",
   "execution_count": 112,
   "id": "55055968-430a-4dd3-808b-84ac7ab05794",
   "metadata": {},
   "outputs": [
    {
     "name": "stdout",
     "output_type": "stream",
     "text": [
      "x1 recalled properly: False\n",
      "\torig: [-1 -1  1 -1  1 -1 -1  1]\n",
      "\tdist: [ 1  1 -1  1 -1 -1 -1  1]\n",
      "\trecl: [ 1  1  1  1  1 -1  1  1]\n"
     ]
    }
   ],
   "source": [
    "# Flip first 5 \n",
    "x1_superd=np.copy(x1)\n",
    "for i in range(x1.size // 2 + 1):\n",
    "    x1_superd[i] = x1_superd[i] * -1\n",
    "\n",
    "test_recall_sync(x1.reshape((1, -1)), x1_superd.reshape((1, -1)), test_net)\n",
    "    "
   ]
  },
  {
   "cell_type": "markdown",
   "id": "4105940c-f866-4936-9e05-b4998fca376f",
   "metadata": {},
   "source": [
    "## 3.2 Sequential Update"
   ]
  },
  {
   "cell_type": "markdown",
   "id": "e8c21f4b-3946-42e5-aa0f-c681885a6b0b",
   "metadata": {},
   "source": [
    "#### Load the data"
   ]
  },
  {
   "cell_type": "code",
   "execution_count": 121,
   "id": "d89add6c-09f1-488d-8d70-f92ae415496a",
   "metadata": {},
   "outputs": [],
   "source": [
    "file_path_pic_data = 'data/pict.dat'\n",
    "\n",
    "num_pics = 11\n",
    "num_attrs = 1024\n",
    "\n",
    "# Open file and read in the array from string to int\n",
    "raw_data = []\n",
    "with open(file_path_pic_data, 'r') as file:\n",
    "    for line in file:\n",
    "        raw_data = list(map(int, line.split(',')))\n",
    "        # It should only be a single line but just in case\n",
    "        break\n",
    "pic_data = np.array(raw_data).reshape(num_pics, num_attrs)\n",
    "\n",
    "# Sanity check that we did the reshaping right\n",
    "for i in range(num_pics):\n",
    "    for j in range(num_attrs):\n",
    "        if raw_data[num_attrs*i + j] != pic_data[i, j]:\n",
    "            print(\"Error, reshape incorrect!\")\n",
    "\n",
    "pic_data_dist = pic_data[9:]\n",
    "pic_data = pic_data[:9]"
   ]
  },
  {
   "cell_type": "markdown",
   "id": "64595b97-aee7-45a7-9b8b-bfd713dc1af5",
   "metadata": {},
   "source": [
    "#### Define function for drawing the pictures"
   ]
  },
  {
   "cell_type": "code",
   "execution_count": 141,
   "id": "ee2f47ec-fa16-450b-b39f-54ed059a2722",
   "metadata": {},
   "outputs": [],
   "source": [
    "import matplotlib.pyplot as plt\n",
    "\n",
    "def show_image_from_vec(dp):\n",
    "    im_data = dp.reshape(32, 32)\n",
    "    plt.imshow(im_data)\n",
    "    plt.show()"
   ]
  },
  {
   "cell_type": "markdown",
   "id": "b2964855-b7a2-43d1-8539-a78bf5f41bb2",
   "metadata": {},
   "source": [
    "#### Train with 3 pictures"
   ]
  },
  {
   "cell_type": "code",
   "execution_count": 150,
   "id": "fd4489d5-bfb8-489e-95f7-f7182798699e",
   "metadata": {},
   "outputs": [
    {
     "name": "stdout",
     "output_type": "stream",
     "text": [
      "x1 recalled properly: True\n",
      "x2 recalled properly: True\n",
      "x3 recalled properly: True\n"
     ]
    }
   ],
   "source": [
    "pic_data_3 = pic_data[:3]\n",
    "test_recall_seq(pic_data_3, pic_data_3)"
   ]
  },
  {
   "cell_type": "code",
   "execution_count": 151,
   "id": "07391287-8a40-496c-a95d-4c5921f98847",
   "metadata": {},
   "outputs": [
    {
     "name": "stdout",
     "output_type": "stream",
     "text": [
      "x1 recalled properly: True\n"
     ]
    }
   ],
   "source": [
    "pic_net = Hopfield_net(pic_data_3)\n",
    "test_recall_seq(pic_data_3[0].reshape((1, -1)), pic_data_dist[0].reshape((1, -1)), printout=False, test_net=pic_net)"
   ]
  },
  {
   "cell_type": "markdown",
   "id": "c7f28243-fc6b-4ac2-82ba-39244529faf1",
   "metadata": {},
   "source": [
    "Beats me why old recall test does not work below - anyways it does recall p2-p3 mix to p2"
   ]
  },
  {
   "cell_type": "code",
   "execution_count": 160,
   "id": "f6a6a8da-59e3-41f3-b74e-772b1af9c27c",
   "metadata": {},
   "outputs": [
    {
     "name": "stdout",
     "output_type": "stream",
     "text": [
      "x1 recalled properly: False\n",
      "x2 recalled properly: False\n",
      "True\n"
     ]
    }
   ],
   "source": [
    "pic_dist = np.vstack((pic_data_dist[1], pic_data_dist[1])).reshape((2, -1))\n",
    "test_recall_seq(pic_data_3[1:2].reshape((2, -1)), pic_dist, printout=False, test_net=pic_net)\n",
    "#show_image_from_vec(pic_data[1])\n",
    "#show_image_from_vec(pic_data[2])\n",
    "#show_image_from_vec(pic_dist[1])\n",
    "#show_image_from_vec(pic_net.recall_seq(pic_dist[1]))\n",
    "\n",
    "did_recall = np.array_equal(pic_data[1], pic_net.recall_seq(pic_dist[1]))\n",
    "print(did_recall)\n",
    "\n",
    "#test_recall_seq(pic_data_3[1].reshape((1, -1)), pic_data_dist[1].reshape((1, -1)), printout=False, test_net=pic_net)"
   ]
  },
  {
   "cell_type": "code",
   "execution_count": null,
   "id": "966c39cd-6818-44f0-b47e-79072676148b",
   "metadata": {},
   "outputs": [],
   "source": []
  }
 ],
 "metadata": {
  "kernelspec": {
   "display_name": "Python 3 (ipykernel)",
   "language": "python",
   "name": "python3"
  },
  "language_info": {
   "codemirror_mode": {
    "name": "ipython",
    "version": 3
   },
   "file_extension": ".py",
   "mimetype": "text/x-python",
   "name": "python",
   "nbconvert_exporter": "python",
   "pygments_lexer": "ipython3",
   "version": "3.10.12"
  }
 },
 "nbformat": 4,
 "nbformat_minor": 5
}
