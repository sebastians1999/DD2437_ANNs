{
 "cells": [
  {
   "cell_type": "markdown",
   "metadata": {},
   "source": [
    "# Lab 1a"
   ]
  },
  {
   "cell_type": "code",
   "execution_count": 1,
   "metadata": {},
   "outputs": [],
   "source": [
    "import numpy as np\n",
    "\n",
    "n = 100\n",
    "mA = [1.0, 0.5]\n",
    "mB = [-2.0, 0.0]\n",
    "sigmaA = 0.5\n",
    "sigmaB = 0.5\n",
    "\n",
    "classA = np.random.randn(n, 2) * sigmaA + mA\n",
    "classB = np.random.randn(n, 2) * sigmaB + mB\n",
    "\n",
    "classA = classA.transpose()\n",
    "classB = classB.transpose()"
   ]
  },
  {
   "cell_type": "code",
   "execution_count": 2,
   "metadata": {},
   "outputs": [
    {
     "name": "stdout",
     "output_type": "stream",
     "text": [
      "(2, 100)\n"
     ]
    }
   ],
   "source": [
    "print(classA.shape)"
   ]
  },
  {
   "cell_type": "code",
   "execution_count": 3,
   "metadata": {},
   "outputs": [
    {
     "data": {
      "image/png": "[encoded data removed]",
      "text/plain": [
       "<Figure size 640x480 with 1 Axes>"
      ]
     },
     "metadata": {},
     "output_type": "display_data"
    }
   ],
   "source": [
    "import matplotlib.pyplot as plt\n",
    "\n",
    "plt.scatter(classA[0, :], classA[1, :], color=\"blue\", label=\"Class A\")\n",
    "plt.scatter(classB[0, :], classB[1, :], color=\"red\", label=\"Class B\")\n",
    "plt.legend()\n",
    "plt.show()\n",
    "\n",
    "\n"
   ]
  },
  {
   "cell_type": "code",
   "execution_count": 13,
   "metadata": {},
   "outputs": [],
   "source": [
    "# Create input data, with bias term (one extra dimension)\n",
    "classABias = np.concatenate((classA, np.ones((1, n))), axis=0)\n",
    "classBBias = np.concatenate((classB, np.ones((1, n))), axis=0)\n",
    "\n",
    "# This is our input data (2 classes, with 2 dimensions for visualizatio in 2D plane + 1 deminsion for the bias term)\n",
    "patterns = np.concatenate((classABias, classBBias), axis=1)\n",
    "\n",
    "# Shuffle the inpput and target data, so we mix the classes\n",
    "shuffled_indices = np.random.permutation(patterns.shape[1])\n",
    "\n",
    "# Input data\n",
    "patterns_shuffled = patterns[:, shuffled_indices]\n",
    "\n",
    "# Target data (delta rule)\n",
    "targetsDelta = np.concatenate((np.ones(classA.shape[1]), -np.ones(classB.shape[1])))\n",
    "targetsDelta_shuffled = targetsDelta[shuffled_indices]\n",
    "\n",
    "# Target data (perceptron rule)\n",
    "targetsPerc = np.concatenate((np.ones(classA.shape[1]), np.zeros(classB.shape[1])))\n",
    "targetsPerc_shuffled = targetsPerc[shuffled_indices]"
   ]
  },
  {
   "cell_type": "code",
   "execution_count": 14,
   "metadata": {},
   "outputs": [
    {
     "name": "stdout",
     "output_type": "stream",
     "text": [
      "[ 1. -1.  1. -1.  1.  1.  1. -1.  1. -1. -1. -1. -1.  1. -1. -1. -1.  1.\n",
      " -1. -1. -1. -1.  1.  1.  1. -1. -1.  1.  1. -1.  1.  1.  1. -1.  1.  1.\n",
      "  1.  1. -1. -1.  1.  1.  1. -1. -1.  1.  1. -1. -1.  1. -1.  1. -1. -1.\n",
      "  1. -1. -1. -1. -1.  1.  1.  1. -1. -1.  1. -1.  1. -1.  1.  1. -1.  1.\n",
      " -1. -1. -1.  1.  1.  1.  1.  1. -1.  1.  1.  1. -1.  1. -1. -1.  1. -1.\n",
      "  1.  1.  1. -1. -1.  1.  1. -1. -1. -1.  1.  1. -1.  1. -1. -1.  1. -1.\n",
      " -1. -1.  1. -1. -1.  1.  1.  1.  1.  1. -1. -1. -1. -1. -1. -1. -1.  1.\n",
      " -1. -1. -1. -1.  1.  1.  1.  1.  1. -1. -1.  1.  1.  1.  1. -1. -1.  1.\n",
      " -1. -1. -1.  1.  1.  1.  1.  1.  1. -1. -1.  1. -1.  1.  1. -1.  1.  1.\n",
      "  1. -1.  1. -1.  1. -1.  1. -1.  1. -1.  1.  1. -1. -1. -1. -1. -1.  1.\n",
      " -1.  1.  1. -1.  1.  1.  1. -1. -1. -1. -1. -1. -1.  1.  1. -1. -1. -1.\n",
      "  1.  1.]\n"
     ]
    }
   ],
   "source": [
    "# print(patterns.shape)\n",
    "print(targetsDelta_shuffled)"
   ]
  },
  {
   "cell_type": "code",
   "execution_count": null,
   "metadata": {},
   "outputs": [],
   "source": []
  },
  {
   "cell_type": "code",
   "execution_count": 10,
   "metadata": {},
   "outputs": [
    {
     "name": "stdout",
     "output_type": "stream",
     "text": [
      "[[ 1.          1.          1.          1.          1.          1.\n",
      "   1.          1.          1.          1.          1.          1.\n",
      "   1.          1.          1.          1.          1.          1.\n",
      "   1.          1.          1.          1.          1.          1.\n",
      "   1.          1.          1.          1.          1.          1.\n",
      "   1.          1.          1.          1.          1.          1.\n",
      "   1.          1.          1.          1.          1.          1.\n",
      "   1.          1.          1.          1.          1.          1.\n",
      "   1.          1.          1.          1.          1.          1.\n",
      "   1.          1.          1.          1.          1.          1.\n",
      "   1.          1.          1.          1.          1.          1.\n",
      "   1.          1.          1.          1.          1.          1.\n",
      "   1.          1.          1.          1.          1.          1.\n",
      "   1.          1.          1.          1.          1.          1.\n",
      "   1.          1.          1.          1.          1.          1.\n",
      "   1.          1.          1.          1.          1.          1.\n",
      "   1.          1.          1.          1.          1.          1.\n",
      "   1.          1.          1.          1.          1.          1.\n",
      "   1.          1.          1.          1.          1.          1.\n",
      "   1.          1.          1.          1.          1.          1.\n",
      "   1.          1.          1.          1.          1.          1.\n",
      "   1.          1.          1.          1.          1.          1.\n",
      "   1.          1.          1.          1.          1.          1.\n",
      "   1.          1.          1.          1.          1.          1.\n",
      "   1.          1.          1.          1.          1.          1.\n",
      "   1.          1.          1.          1.          1.          1.\n",
      "   1.          1.          1.          1.          1.          1.\n",
      "   1.          1.          1.          1.          1.          1.\n",
      "   1.          1.          1.          1.          1.          1.\n",
      "   1.          1.          1.          1.          1.          1.\n",
      "   1.          1.          1.          1.          1.          1.\n",
      "   1.          1.          1.          1.          1.          1.\n",
      "   1.          1.          1.          1.          1.          1.\n",
      "   1.          1.        ]\n",
      " [ 1.34446151  0.78996842 -2.30452173 -2.4260149  -0.00388757 -1.87983658\n",
      "   1.19008331  1.72973136  2.05102143  0.70639362  1.50696733  1.76813941\n",
      "   1.38490508  1.11689709 -2.94151303 -2.35699454 -2.4679149  -1.49152191\n",
      "   1.46210372 -1.21701303 -2.12536251  0.87723108 -1.90392588  1.14377351\n",
      "  -1.88688151  0.41759049  1.94138162  0.98580705  1.34605985  1.17633337\n",
      "   0.56480869  0.66640198 -2.09428018  2.13695118 -1.78079967 -2.12228534\n",
      "   1.03318303 -2.02880422 -2.03676102  1.18755926  1.21872887 -2.62097967\n",
      "  -1.88536218 -1.58299133  0.5947442   0.87079802  0.9817293   0.14643616\n",
      "   0.58922995 -1.31171395  0.22865303 -2.49200625  1.91078503  2.05165925\n",
      "  -2.87243584  0.75202904 -1.45485494 -2.16191763  0.62431021 -3.0280561\n",
      "   1.54285361  0.82113112  0.73772702  2.06863053 -2.52764931 -1.97224773\n",
      "  -2.58928532  0.92384943 -1.23885523  1.02600963 -2.56783659  0.55078132\n",
      "  -1.95017306 -0.12608206 -2.63573796  1.48435784 -0.97045978 -1.92772645\n",
      "   1.69584482 -1.44373363 -0.3021095   0.0947165   1.55377415 -1.41281506\n",
      "   0.5753219   1.24095337  0.59689817  1.23009678 -1.56699813 -0.82634404\n",
      "   0.81454464  1.11222294 -1.42309747 -1.87708972  0.84368893  1.15128321\n",
      "  -1.45417598  1.03137565 -1.96120268 -2.50351456 -1.57459342  1.60282878\n",
      "   1.68263606 -1.75969863  0.49550737  0.80423838  1.63413573 -2.58004771\n",
      "   0.81136579  1.45418405  0.85791852  1.32241466 -2.53481276 -1.73755881\n",
      "  -2.2208248  -2.07601734 -1.66905086  1.19141076 -1.82418829  0.60888105\n",
      "  -2.40307924 -2.02634064 -2.43692779 -2.95004578  1.26603983 -1.50708581\n",
      "   0.31714064  0.69922619 -1.58640337 -1.48188366 -2.78236107 -1.79451978\n",
      "  -2.09339033  0.61023547  1.01021872 -1.73059919 -2.74894113  1.427603\n",
      "  -2.02380624  0.66328148  0.77334144  1.4696839   1.63453372  1.41914969\n",
      "   1.67134822 -2.09599639 -2.30778012 -1.24193057 -2.38975403 -2.5587577\n",
      "  -2.2124588  -1.75622534 -1.37635883  1.02795531  2.31838843 -1.27933966\n",
      "  -0.61732998  1.04548577 -2.02656571 -2.26264926  0.86505727 -2.34372752\n",
      "  -1.98374286 -1.58150056  0.27975732  0.24544664  1.0850379   0.82054439\n",
      "   1.27001799  1.37950258 -2.58799831 -0.50853568 -2.31602795  0.5895034\n",
      "  -1.55735453 -2.02436314 -2.29184094 -2.53255669 -2.16138971  0.10308655\n",
      "  -2.00104559  0.83772594 -2.02750737 -2.27216937  1.90667106  0.92536466\n",
      "  -2.13174072  1.23022803 -2.18601704 -1.75468967  1.0996898  -2.46469866\n",
      "   2.24619213 -1.66769291 -2.55203331 -1.95152205  0.86782775 -2.8480242\n",
      "   0.82613449 -1.66855321]\n",
      " [ 0.27196607 -0.32798261 -0.5835629  -0.85698894  0.33153645  0.43648468\n",
      "   0.08754166  0.64694863  0.8928545   0.30053253 -0.17098337  0.18646324\n",
      "   0.94599721 -0.45589262 -0.37619013 -0.61690151  0.41399002  0.32509597\n",
      "  -0.64647954 -0.21285886  0.40689155  0.26601266 -0.15914262  0.36626815\n",
      "   0.49456465 -0.15420724  0.08361481  1.18079548  0.26504177  0.60411742\n",
      "   1.02507189  0.32986665 -0.60892676 -1.08015466  0.44857802  0.07214763\n",
      "   0.63817667  0.28567642 -0.38451202 -0.30305051  0.31835371  0.31124488\n",
      "  -1.36954752  0.13980621  1.30068949 -0.00939839  0.18712913 -0.06646104\n",
      "   0.02247968 -0.66582988 -0.15078045 -0.94639384 -0.03945053  1.85631008\n",
      "   0.63055191  0.45481756  0.78352097 -0.95904633  0.40726444  0.01326373\n",
      "   0.65327668 -0.77462739  0.01207902  0.5213365   0.04700676 -0.60903043\n",
      "   0.16402615  0.47955235 -0.13846553  0.38809798  1.01781253  0.22742651\n",
      "  -0.73639888  0.76914949  0.1055315  -0.11070067  0.73872541 -1.20592775\n",
      "   0.18024598  0.60837345  1.48269557  0.21137076  0.41699009 -0.17366464\n",
      "   1.13854798 -0.41758606  0.53984767  0.84033164 -0.39764196 -0.15614701\n",
      "   0.19856405  0.80748617 -0.18551725  0.55974018  0.38385807  0.49845169\n",
      "   0.12661596 -0.16498233 -0.12031925  0.97969968 -0.1156893  -0.18857026\n",
      "   0.51765172  0.36628379  1.22056391 -0.40860649  0.93742992 -0.03417643\n",
      "   0.90355242  2.33097472  0.17077922  0.70586075  0.61868263 -0.66141444\n",
      "  -0.14686585 -0.25345901  0.14830213  0.80090732  0.02873808  0.1024594\n",
      "   0.43962751  0.90677176  0.23701862  0.65507745 -0.25387959  0.38223666\n",
      "   0.71309262  0.41290569  0.2835868  -0.25969829 -0.51365039 -0.8204988\n",
      "   0.1079946   0.85793405  0.85133187  0.38458104 -0.24934188  0.4170436\n",
      "  -0.28805709  1.44563317  0.71394457  0.35014944  0.08247351  0.78187471\n",
      "   0.76388323  0.21693471 -0.26670854 -0.06824668 -0.29267221 -0.21072485\n",
      "   0.03871354 -0.16674618  0.12695843  0.40028713  1.38455023 -0.45018852\n",
      "   0.32056482  0.39551856 -0.39202294  0.22233468 -0.20143266 -0.68591266\n",
      "   0.36044946 -0.30190336  1.25499032  0.53102063  0.30560809  0.33070762\n",
      "   1.48495363  0.95740627 -0.46852517  0.51938116  1.21374301 -0.67883314\n",
      "  -0.58501683  0.05027407 -0.79132208 -0.63265358 -0.70881799 -0.23220273\n",
      "   0.75280749  0.85163102  0.14206716 -0.26872482  0.37418437  0.25748698\n",
      "  -0.26609899  0.34923616  0.88610592  0.01302072  1.24995037  0.14218232\n",
      "   0.93846535 -0.33850175 -0.17488749 -0.28588655  0.99327743 -0.66706974\n",
      "   1.24493088  0.38916406]]\n"
     ]
    }
   ],
   "source": [
    "print(patterns_shuffled)"
   ]
  },
  {
   "cell_type": "code",
   "execution_count": null,
   "metadata": {},
   "outputs": [],
   "source": [
    "def perceptron_rule(x):\n",
    "    eta = 0.01\n",
    "    w = np.random.rand(n,1)\n",
    "    w_t = w.transpose()\n",
    "\n",
    "    y_pred = x * w_t\n"
   ]
  },
  {
   "cell_type": "code",
   "execution_count": null,
   "metadata": {},
   "outputs": [],
   "source": []
  }
 ],
 "metadata": {
  "kernelspec": {
   "display_name": ".venv",
   "language": "python",
   "name": "python3"
  },
  "language_info": {
   "codemirror_mode": {
    "name": "ipython",
    "version": 3
   },
   "file_extension": ".py",
   "mimetype": "text/x-python",
   "name": "python",
   "nbconvert_exporter": "python",
   "pygments_lexer": "ipython3",
   "version": "3.12.7"
  }
 },
 "nbformat": 4,
 "nbformat_minor": 2
}
