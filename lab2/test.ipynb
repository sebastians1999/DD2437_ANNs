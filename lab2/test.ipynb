{
 "cells": [
  {
   "cell_type": "code",
   "execution_count": 1,
   "id": "cc3ef3da",
   "metadata": {},
   "outputs": [],
   "source": [
    "import numpy as np\n",
    "import matplotlib.pyplot as plt\n",
    "import sys\n",
    "sys.path.append('/Users/sebastian/Documents/KTH/Year 1/DD2437 Artificial Neural Networks and Deep Architectures/lab_repo/DD2437_ANNs/lab2')\n",
    "from rdf import *\n",
    "from helper import *"
   ]
  },
  {
   "cell_type": "code",
   "execution_count": 2,
   "id": "e2082b56",
   "metadata": {},
   "outputs": [
    {
     "name": "stdout",
     "output_type": "stream",
     "text": [
      "Training samples: 63\n",
      "Testing samples: 58\n"
     ]
    }
   ],
   "source": [
    "# Training data\n",
    "x_train = np.arange(0,2*np.pi,0.1)\n",
    "y_sin_train = np.sin(2*x_train)\n",
    "y_square_train = np.sign(y_sin_train) # # 1 if sin(2x) >= 0, else -1\n",
    "\n",
    "# Testing data\n",
    "x_test = np.arange(0.5,2*np.pi,0.1)\n",
    "y_sin_test = np.sin(2*x_test)\n",
    "y_square_test = np.sign(y_sin_test) # # 1 if sin(2x) >= 0, else -1\n",
    "\n",
    "print(f\"Training samples: {len(x_train)}\")\n",
    "print(f\"Testing samples: {len(x_test)}\")"
   ]
  },
  {
   "cell_type": "code",
   "execution_count": 3,
   "id": "e6b9ca86",
   "metadata": {},
   "outputs": [],
   "source": [
    "num_centers = 4\n",
    "centers = np.linspace(0, 2 * np.pi, num_centers)\n",
    "fixed_sigma = 0.5"
   ]
  },
  {
   "cell_type": "code",
   "execution_count": 4,
   "id": "85812ea9",
   "metadata": {},
   "outputs": [],
   "source": [
    "rbf = RBFNetwork(centers, fixed_sigma)"
   ]
  },
  {
   "cell_type": "code",
   "execution_count": 9,
   "id": "64fed7fe",
   "metadata": {},
   "outputs": [
    {
     "name": "stdout",
     "output_type": "stream",
     "text": [
      "0.0\n",
      "6.2\n",
      "Initial centers:\n",
      "[[2.32214874]\n",
      " [5.8944287 ]\n",
      " [4.53836244]\n",
      " [3.7116826 ]\n",
      " [0.96731557]\n",
      " [0.96716603]\n",
      " [0.3601184 ]]\n",
      "Epoch 0: Avg win count: 9.0\n",
      "Epoch 1: Avg win count: 18.0\n",
      "Epoch 2: Avg win count: 27.0\n",
      "Final wins per Unit: [14. 10. 11. 11.  7.  3.  7.]\n",
      "Average Quantization Error (AQE): 2.192084188531515\n",
      "Average Distance per Unit: [1.67049652 2.78627283 1.91988147 1.62841899 2.26113576 2.30518691\n",
      " 2.77319683]\n",
      "Computed widths (sigma): [0.20076935 0.16011961 0.1776175  0.16745823 0.18765604 0.08164966\n",
      " 0.10265351]\n",
      "Final centers:\n",
      " [[2.33244064]\n",
      " [5.85717561]\n",
      " [4.5841054 ]\n",
      " [3.680386  ]\n",
      " [1.03058673]\n",
      " [0.95271933]\n",
      " [0.34842962]]\n"
     ]
    },
    {
     "data": {
      "text/plain": [
       "(array([[2.33244064],\n",
       "        [5.85717561],\n",
       "        [4.5841054 ],\n",
       "        [3.680386  ],\n",
       "        [1.03058673],\n",
       "        [0.95271933],\n",
       "        [0.34842962]]),\n",
       " array([0.20076935, 0.16011961, 0.1776175 , 0.16745823, 0.18765604,\n",
       "        0.08164966, 0.10265351]))"
      ]
     },
     "execution_count": 9,
     "metadata": {},
     "output_type": "execute_result"
    }
   ],
   "source": [
    "rbf.fit_rbf_units(X=x_train, num_units=7, epochs = 3)"
   ]
  }
 ],
 "metadata": {
  "kernelspec": {
   "display_name": "dd2437",
   "language": "python",
   "name": "python3"
  },
  "language_info": {
   "codemirror_mode": {
    "name": "ipython",
    "version": 3
   },
   "file_extension": ".py",
   "mimetype": "text/x-python",
   "name": "python",
   "nbconvert_exporter": "python",
   "pygments_lexer": "ipython3",
   "version": "3.11.13"
  }
 },
 "nbformat": 4,
 "nbformat_minor": 5
}
