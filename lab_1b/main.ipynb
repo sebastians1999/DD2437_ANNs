{
 "cells": [
  {
   "cell_type": "markdown",
   "id": "b2d8b8f3",
   "metadata": {},
   "source": [
    "# Lab 1b"
   ]
  },
  {
   "cell_type": "code",
   "execution_count": 1,
   "id": "2a7430bf",
   "metadata": {},
   "outputs": [],
   "source": [
    "import numpy as np\n",
    "import matplotlib.pyplot as plt"
   ]
  },
  {
   "cell_type": "code",
   "execution_count": 2,
   "id": "a35322b3",
   "metadata": {},
   "outputs": [],
   "source": [
    "# Helper functions\n",
    "def mse(x, y, w):\n",
    "       e = (w @ x) - y   \n",
    "       return 0.5 * np.mean(e**2)"
   ]
  },
  {
   "cell_type": "markdown",
   "id": "876c4ba5",
   "metadata": {},
   "source": [
    "## Fix data"
   ]
  },
  {
   "cell_type": "code",
   "execution_count": 28,
   "id": "a8037a1e",
   "metadata": {},
   "outputs": [],
   "source": [
    "##### Generate samples #####\n",
    "def data_generator(\n",
    "        n: int=100,\n",
    "        mA:list[float, float]=[1.0, 0.3],\n",
    "        mB:list[float, float]=[0.0, -0.1],\n",
    "        sigmaA: float=0.2,\n",
    "        sigmaB: int=0.3\n",
    "        ):\n",
    "    \n",
    "    # First row of class A is handled differently\n",
    "    firstrowA = np.concatenate([\n",
    "        np.random.randn(n // 2) * sigmaA - mA[0],\n",
    "        np.random.randn(n // 2) * sigmaA + mA[0]\n",
    "    ])\n",
    "\n",
    "    # Create the classes\n",
    "    classA = np.vstack(\n",
    "        tup=(firstrowA, np.random.randn(n) * sigmaA + mA[1])\n",
    "    )\n",
    "    classB = np.random.randn(n, 2) * sigmaB + mB\n",
    "    classB = classB.transpose()\n",
    "\n",
    "    # Add the bias term\n",
    "    classA = np.vstack(tup=(classA, np.ones((1, n))))\n",
    "    classB = np.vstack(tup=(classB, np.ones((1, n))))\n",
    "\n",
    "    # Combine data into one ndarray\n",
    "    input_data = np.concatenate((classA, classB), axis=1)\n",
    "\n",
    "    # Create shuffled indices. Will be used to shuffle the samples\n",
    "    shuffled_indices = np.random.permutation(input_data.shape[1])\n",
    "\n",
    "    # Shuffle input data\n",
    "    input_data_shuffled = input_data[:, shuffled_indices]\n",
    "\n",
    "    # Target data (delta rule)\n",
    "    targets = np.concatenate((np.ones(classA.shape[1]), -np.ones(classB.shape[1])))\n",
    "    targets_shuffled = targets[shuffled_indices] # Shuffle targets\n",
    "\n",
    "    return classA, classB, input_data_shuffled, targets_shuffled\n",
    "\n",
    "##### Weight generator #####\n",
    "def weight_generator(X_dim_wo_bias: int, hidden_nodes: list[int], output_nodes: int=1):\n",
    "    weights = []\n",
    "    delta_w_prev = [] # Initialize\n",
    "\n",
    "    # Create a list to define number of nodes in each layer, starting from input layer\n",
    "    # For our 2-layer perceptron, we will have 1 input layer, 1 hidden layer and 1 output layer\n",
    "    layer_nodes = [X_dim_wo_bias] + hidden_nodes + [output_nodes]\n",
    "\n",
    "    # We start from l = 1, because we will create the weights using the dimensions of previous\n",
    "    # layer (columns) and number of nodes in current layer (rows). The + 1 one the columns is to add the bias term\n",
    "    for i in range(1, len(layer_nodes)):\n",
    "        W = np.random.randn(layer_nodes[i], layer_nodes[i - 1] + 1)\n",
    "\n",
    "        W_prev_init = np.zeros(shape=(layer_nodes[i], layer_nodes[i - 1] + 1))\n",
    "\n",
    "        weights.append(W)\n",
    "        delta_w_prev.append(W_prev_init)\n",
    "    \n",
    "    return weights, delta_w_prev"
   ]
  },
  {
   "cell_type": "markdown",
   "id": "99f5012f",
   "metadata": {},
   "source": [
    "### Sanity check data generator"
   ]
  },
  {
   "cell_type": "code",
   "execution_count": 4,
   "id": "aa4811d6",
   "metadata": {},
   "outputs": [
    {
     "name": "stdout",
     "output_type": "stream",
     "text": [
      "(3, 100)\n",
      "(3, 100)\n",
      "<class 'numpy.ndarray'>\n",
      "(200,)\n"
     ]
    }
   ],
   "source": [
    "classA, classB, X, target = data_generator(mA=[2.0, 0.3])\n",
    "print(classA.shape)\n",
    "print(classB.shape)\n",
    "print(type(X))\n",
    "print(target.shape)"
   ]
  },
  {
   "cell_type": "code",
   "execution_count": 5,
   "id": "534d6c38",
   "metadata": {},
   "outputs": [
    {
     "data": {
      "image/png": "[encoded data removed]",
      "text/plain": [
       "<Figure size 640x480 with 1 Axes>"
      ]
     },
     "metadata": {},
     "output_type": "display_data"
    }
   ],
   "source": [
    "plt.scatter(classA[0, :], classA[1, :], color=\"blue\", label=\"Class A\")\n",
    "plt.scatter(classB[0, :], classB[1, :], color=\"red\", label=\"Class B\")\n",
    "plt.xlabel(\"x1\")\n",
    "plt.ylabel(\"x2\")\n",
    "plt.legend()\n",
    "plt.show()"
   ]
  },
  {
   "cell_type": "code",
   "execution_count": 6,
   "id": "9c56a9cc",
   "metadata": {},
   "outputs": [
    {
     "name": "stdout",
     "output_type": "stream",
     "text": [
      "(5, 3)\n",
      "(1, 6)\n"
     ]
    }
   ],
   "source": [
    "weights = weight_generator(X_dim_wo_bias=X.shape[0] - 1, hidden_nodes=[5], output_nodes=1)\n",
    "for w in weights:\n",
    "    print(w.shape)\n"
   ]
  },
  {
   "cell_type": "markdown",
   "id": "4d6c9835",
   "metadata": {},
   "source": [
    "## Generalized delta rule"
   ]
  },
  {
   "cell_type": "code",
   "execution_count": null,
   "id": "89ee94aa",
   "metadata": {},
   "outputs": [],
   "source": [
    "###### Activation function (as in the lab instructions) #####\n",
    "def activation_function(h_in):\n",
    "    phi = (2 / (1 + np.exp(-h_in))) - 1 #activation function\n",
    "    d_phi = ((1 + phi) * (1 - phi)) / 2 #derrivative of activation function\n",
    "\n",
    "    return phi, d_phi\n",
    "\n",
    "##### Forward pass #####\n",
    "def forward_pass(X, weights):\n",
    "    #print(\"===== Forward pass =====\")\n",
    "    # List to keep track of what should be sent into the following hidden layer\n",
    "    activations_list = [X] # First element is the input, and the last element correspond to the output (i.e. t)\n",
    "    \n",
    "    phi_and_d_phi = [] # Store results of the activation function (both the values and the derivate) \n",
    "\n",
    "    for i, W in enumerate(weights):\n",
    "        #print(f\"Layer {i}: W shape {W.shape}, input shape {activations_list[-1].shape}\")\n",
    "        h_in = W @ activations_list[-1] # Get the output from the latest calculated layer, and use it as input for next layer\n",
    "\n",
    "        # Calcualte output of hidden layer and store both outpout and derivate (they will be used in back propogation)\n",
    "        h_out, d_phi = activation_function(h_in)\n",
    "        #print(f\"Layer {i}: h_out shape {h_out.shape}, d_phi shape {d_phi.shape}\")\n",
    "\n",
    "\n",
    "        phi_and_d_phi.append((h_out, d_phi))\n",
    "\n",
    "        # Calculate bias term and add it to phi (output of the layer), for all layers, except the last one\n",
    "        if i < (len(weights) - 1):\n",
    "            bias_term = h_out.shape[1]\n",
    "            h_out = np.vstack(tup=(h_out, np.ones((1, bias_term))))\n",
    "\n",
    "        activations_list.append(h_out)\n",
    "\n",
    "    return activations_list, phi_and_d_phi\n",
    "\n",
    "##### Backward pass #####\n",
    "def backward_pass(targets, phi_and_d_phi, weights):\n",
    "    #print(\"===== Backward pass =====\")\n",
    "    # Initialize list with the deltas. Makes it easier to call the correct delta when calculating hidden layers delta\n",
    "    deltas = [None] * len(phi_and_d_phi)\n",
    "\n",
    "    # Go through each element of phi_and_d_phi in reversed order. \n",
    "    # In the first iteration, i = len(phi_and_d_phi) - 1 (last element of phi_and_d_phi)\n",
    "    for i, (h_out, d_phi) in reversed(list(enumerate(phi_and_d_phi))):\n",
    "        # We handle output layer (last element of phi_and_d_phi) differently from hidden layers\n",
    "        if i == len(phi_and_d_phi) - 1:\n",
    "            d = (h_out - targets) * d_phi\n",
    "            #print(f\"Layer {i} (output): delta shape {d.shape}\")\n",
    "        else:\n",
    "            v = weights[i + 1][:, :-1] # Drop the weighs for the bias, as the error is calculated based the weighs connecting inputs with nodes in hidden layer, or weighs connecting hiodden layer to outer layer\n",
    "            #print(f\"Layer {i} (hidden): v shape {v.shape}, v_transpose shape {np.transpose(v).shape}, previously calculated delta shape {deltas[i + 1].shape}, d_phi shape {d_phi.shape}\")\n",
    "            d = (np.transpose(v) @ deltas[i + 1]) * d_phi # Here we matrix multiply with the latest calculated delta\n",
    "            #print(f\"Layer {i} (hidden): delta shape {d.shape}\")\n",
    "\n",
    "        deltas[i] = d # Update the None value to the actual delta values, so the last element in deltas = delta for the output layer nodes\n",
    "\n",
    "    return deltas\n",
    "\n",
    "##### Weight update #####\n",
    "def weight_update(alpha, eta, activations, deltas, old_weights, delta_w_prev):\n",
    "    #print(\"===== Weight update =====\")\n",
    "    new_weights = [] # New updated weights\n",
    "    new_delta_w = [] # Output the calculated delta_w which will be outputted and used as delta_w_prev in next epoch\n",
    "\n",
    "    # Going from left to right in the network to update the weights. Only 2 times in our case (X and H, not the output)\n",
    "    for i, old_W in enumerate(old_weights):\n",
    "        #print(\"Update weights in layer: \" + str(i))\n",
    "\n",
    "        delta_w = (delta_w_prev[i] * alpha) - (deltas[i]@np.transpose(activations[i]) * (1 - alpha))\n",
    "        W = old_W + eta * delta_w\n",
    "\n",
    "        new_delta_w.append(delta_w)\n",
    "        new_weights.append(W)\n",
    "\n",
    "    return new_weights, new_delta_w\n",
    "#Question here is: Do we use the activations we used before, or do we cacluate them new, based on the updated weights\n",
    "# Answer; the activations should not be calculated again. In the next epoch we run the model with the new weights and the original input.\n",
    "# These are inputted into the hidden layer, which outputs phi and the derivate of phi. This will be populated in the activation list in the forward pass\n",
    "# as well as the output from the output layer. So basically;\n",
    "# X (input) - never changes\n",
    "# phi(WX) - recalculated in the forward pass each epoch\n",
    "# output - recalculated in the forward pass each epoch\n",
    "# So the list activations will be overwritten each epoch\n",
    "\n"
   ]
  },
  {
   "cell_type": "markdown",
   "id": "1fa25f1c",
   "metadata": {},
   "source": [
    "## Testing"
   ]
  },
  {
   "cell_type": "code",
   "execution_count": 41,
   "id": "1578eeb0",
   "metadata": {},
   "outputs": [
    {
     "name": "stdout",
     "output_type": "stream",
     "text": [
      "(5, 200)\n",
      "(3, 200)\n",
      "(5, 3)\n",
      "Sanity check that weights are updated\n",
      "First weights: [array([[-1.38062451,  0.39353525, -0.97107254],\n",
      "       [-0.325315  ,  0.78690844, -1.87215695],\n",
      "       [-0.51936111, -0.15468799, -2.08193726],\n",
      "       [ 0.29586179, -0.34427899,  1.85267238],\n",
      "       [-1.24711761, -0.45475247,  1.56308468]]), array([[ 1.33200211, -0.77886093, -0.81603626,  0.4300208 , -0.88193309,\n",
      "        -0.67018335]])]\n",
      "Updated weights: [array([[-1.38789171,  0.39706783, -0.98500127],\n",
      "       [-0.31951529,  0.78395632, -1.87362023],\n",
      "       [-0.51071243, -0.15746994, -2.08233966],\n",
      "       [ 0.29302306, -0.34266204,  1.85302148],\n",
      "       [-1.25937833, -0.45758769,  1.56558913]]), array([[ 1.34371073, -0.77446023, -0.81342983,  0.42747188, -0.90142154,\n",
      "        -0.67088997]])]\n"
     ]
    }
   ],
   "source": [
    "classA, classB, X, targets = data_generator(mA=[2.0, 0.3])\n",
    "# Create weights for 2 perceptron layer (1 hidden layer and 1 output layer)\n",
    "weights, delta_w_prev = weight_generator(X_dim_wo_bias=X.shape[0] - 1, hidden_nodes=[5], output_nodes=1)\n",
    "\n",
    "# Forward pass\n",
    "activation_list, phi_and_d_phi = forward_pass(X=X, weights=weights)\n",
    "\n",
    "# Backward pass\n",
    "deltas = backward_pass(targets=targets, phi_and_d_phi=phi_and_d_phi, weights=weights)\n",
    "\n",
    "# Update weights\n",
    "weights_updated, delta_w_prev = weight_update(alpha=0.9, eta = 0.01, deltas=deltas, activations=activation_list, old_weights=weights, delta_w_prev=delta_w_prev)\n",
    "\n",
    "print(deltas[0].shape)\n",
    "print(activation_list[0].shape)\n",
    "print(weights[0].shape)\n",
    "print(\"Sanity check that weights are updated\")\n",
    "print(f\"First weights: {weights}\")\n",
    "print(f\"Updated weights: {weights_updated}\")\n",
    "\n"
   ]
  },
  {
   "cell_type": "code",
   "execution_count": 10,
   "id": "a0d935f2",
   "metadata": {},
   "outputs": [
    {
     "name": "stdout",
     "output_type": "stream",
     "text": [
      "(3, 200)\n",
      "(6, 200)\n",
      "(1, 200)\n"
     ]
    }
   ],
   "source": [
    "for i in activation_list:\n",
    "    print(i.shape)"
   ]
  },
  {
   "cell_type": "code",
   "execution_count": 11,
   "id": "af8547fa",
   "metadata": {},
   "outputs": [
    {
     "name": "stdout",
     "output_type": "stream",
     "text": [
      "(5, 3)\n",
      "(1, 6)\n"
     ]
    }
   ],
   "source": [
    "for i in weights:\n",
    "    print(i.shape)"
   ]
  },
  {
   "cell_type": "code",
   "execution_count": 12,
   "id": "d40e5194",
   "metadata": {},
   "outputs": [
    {
     "name": "stdout",
     "output_type": "stream",
     "text": [
      "[[1. 1.]\n",
      " [1. 1.]]\n",
      "[[-0.8295026  -1.20101294]\n",
      " [-0.11187847 -0.23638575]]\n",
      "[[-0.8295026  -1.20101294]\n",
      " [-0.11187847 -0.23638575]]\n"
     ]
    }
   ],
   "source": [
    "a = np.ones(shape=(2, 2))\n",
    "b = np.random.randn(2, 2)\n",
    "print(a)\n",
    "print(b)\n",
    "print(a*b)"
   ]
  },
  {
   "cell_type": "code",
   "execution_count": 17,
   "id": "dcbe306d-1a71-47bd-9e29-d6f6e6a30749",
   "metadata": {},
   "outputs": [],
   "source": [
    "# Add function to check how well the classifier does\n",
    "def accuracy(out, labels):\n",
    "    pred = np.where(out>0, 1, 0)\n",
    "    true = np.where(labels>0, 1, 0)\n",
    "    acc = np.count_nonzero(pred == true) / labels.size\n",
    "    return acc\n",
    "\n",
    "def mse_network(out, labels):\n",
    "    e = out - labels  \n",
    "    return 0.5 * np.mean(e**2)\n",
    "    "
   ]
  },
  {
   "cell_type": "code",
   "execution_count": 87,
   "id": "21ad7887",
   "metadata": {},
   "outputs": [],
   "source": [
    "weights = weight_generator(X_dim_wo_bias=X.shape[0] - 1, hidden_nodes=[5], output_nodes=1)\n",
    "v = weights[1][:, :-1]\n",
    "\n",
    "\n",
    "\n",
    "def generalised_delta_rule(X, targets, epoch:int = 100, eta:float = 0.01):\n",
    "\n",
    "    weights = weight_generator(X_dim_wo_bias=X.shape[0] - 1, hidden_nodes=[5], output_nodes=1)\n",
    "\n",
    "    for i in range(epoch):\n",
    "        \n",
    "        \n",
    "        activation_list, phi_and_d_phi = forward_pass(X=X, weights=weights)\n",
    "        \n",
    "        deltas = backward_pass(targets=targets, phi_and_d_phi=phi_and_d_phi, weights=weights)\n",
    "        \n",
    "        weights, _ = weight_update_momentum(eta = eta, deltas=deltas, activations=activation_list,weights=weights)\n",
    "\n",
    "        # Print training accuracy every 10 epochs\n",
    "        if i%10 == 0:\n",
    "            print(\"Epoch {} training accuracy : {:.2f}, mse: {:.2f}\".format(i, accuracy(activation_list[-1], targets) * 100, ms))"
   ]
  },
  {
   "cell_type": "code",
   "execution_count": null,
   "id": "8ab90805-7f02-469f-9383-002eae66b54c",
   "metadata": {},
   "outputs": [],
   "source": []
  },
  {
   "cell_type": "markdown",
   "id": "0170f8eb-1585-4467-9dc7-107abd569a25",
   "metadata": {},
   "source": [
    " ## Testing the backprop"
   ]
  },
  {
   "cell_type": "code",
   "execution_count": 90,
   "id": "4a337789-a097-4a82-9c1d-d07d5ba26e90",
   "metadata": {},
   "outputs": [
    {
     "name": "stdout",
     "output_type": "stream",
     "text": [
      "Training accuracy epoch 0: 56.50\n",
      "Training accuracy epoch 10: 93.00\n",
      "Training accuracy epoch 20: 99.00\n",
      "Training accuracy epoch 30: 100.00\n",
      "Training accuracy epoch 40: 100.00\n",
      "Training accuracy epoch 50: 100.00\n",
      "Training accuracy epoch 60: 100.00\n",
      "Training accuracy epoch 70: 100.00\n",
      "Training accuracy epoch 80: 100.00\n",
      "Training accuracy epoch 90: 100.00\n"
     ]
    }
   ],
   "source": [
    "classA, classB, X, targets = data_generator(mA=[2.0, 0.3])\n",
    "generalised_delta_rule(X, targets, eta=0.01)"
   ]
  },
  {
   "cell_type": "code",
   "execution_count": null,
   "id": "5b1f01f1-9416-4d65-b30a-bbd84ade27b7",
   "metadata": {},
   "outputs": [],
   "source": []
  },
  {
   "cell_type": "code",
   "execution_count": null,
   "id": "a88616c9-95a1-4776-ae65-836b24d5fd6d",
   "metadata": {},
   "outputs": [],
   "source": []
  }
 ],
 "metadata": {
  "kernelspec": {
   "display_name": ".venv",
   "language": "python",
   "name": "python3"
  },
  "language_info": {
   "codemirror_mode": {
    "name": "ipython",
    "version": 3
   },
   "file_extension": ".py",
   "mimetype": "text/x-python",
   "name": "python",
   "nbconvert_exporter": "python",
   "pygments_lexer": "ipython3",
   "version": "3.12.7"
  }
 },
 "nbformat": 4,
 "nbformat_minor": 5
}
