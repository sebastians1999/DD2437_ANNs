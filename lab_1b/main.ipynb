{
 "cells": [
  {
   "cell_type": "markdown",
   "id": "b2d8b8f3",
   "metadata": {},
   "source": [
    "# Lab 1b"
   ]
  },
  {
   "cell_type": "code",
   "execution_count": 1,
   "id": "2a7430bf",
   "metadata": {},
   "outputs": [],
   "source": [
    "import numpy as np\n",
    "import matplotlib.pyplot as plt"
   ]
  },
  {
   "cell_type": "markdown",
   "id": "876c4ba5",
   "metadata": {},
   "source": [
    "## Fix data"
   ]
  },
  {
   "cell_type": "code",
   "execution_count": 2,
   "id": "a8037a1e",
   "metadata": {},
   "outputs": [],
   "source": [
    "##### Generate samples #####\n",
    "def data_generator(\n",
    "        n: int=100,\n",
    "        mA:list[float, float]=[1.0, 0.3],\n",
    "        mB:list[float, float]=[0.0, -0.1],\n",
    "        sigmaA: float=0.2,\n",
    "        sigmaB: int=0.3\n",
    "        ):\n",
    "    \n",
    "    # First row of class A is handled differently\n",
    "    firstrowA = np.concatenate([\n",
    "        np.random.randn(n // 2) * sigmaA - mA[0],\n",
    "        np.random.randn(n // 2) * sigmaA + mA[0]\n",
    "    ])\n",
    "\n",
    "    # Create the classes\n",
    "    classA = np.vstack(\n",
    "        tup=(firstrowA, np.random.randn(n) * sigmaA + mA[1])\n",
    "    )\n",
    "    classB = np.random.randn(n, 2) * sigmaB + mB\n",
    "    classB = classB.transpose()\n",
    "\n",
    "    # Add the bias term\n",
    "    classA = np.vstack(tup=(classA, np.ones((1, n))))\n",
    "    classB = np.vstack(tup=(classB, np.ones((1, n))))\n",
    "\n",
    "    # Combine data into one ndarray\n",
    "    input_data = np.concatenate((classA, classB), axis=1)\n",
    "\n",
    "    # Create shuffled indices. Will be used to shuffle the samples\n",
    "    shuffled_indices = np.random.permutation(input_data.shape[1])\n",
    "\n",
    "    # Shuffle input data\n",
    "    input_data_shuffled = input_data[:, shuffled_indices]\n",
    "\n",
    "    # Target data (delta rule)\n",
    "    targets = np.concatenate((np.ones(classA.shape[1]), -np.ones(classB.shape[1])))\n",
    "    targets_shuffled = targets[shuffled_indices] # Shuffle targets\n",
    "\n",
    "    return classA, classB, input_data_shuffled, targets_shuffled\n",
    "\n",
    "##### Weight generator #####\n",
    "def weight_generator(X_dim_wo_bias: int, hidden_nodes: list[int], output_nodes: int=1):\n",
    "    weights = []\n",
    "    delta_w_prev = [] # Initialize\n",
    "\n",
    "    # Create a list to define number of nodes in each layer, starting from input layer\n",
    "    # For our 2-layer perceptron, we will have 1 input layer, 1 hidden layer and 1 output layer\n",
    "    layer_nodes = [X_dim_wo_bias] + hidden_nodes + [output_nodes]\n",
    "\n",
    "    # We start from l = 1, because we will create the weights using the dimensions of previous\n",
    "    # layer (columns) and number of nodes in current layer (rows). The + 1 one the columns is to add the bias term\n",
    "    for i in range(1, len(layer_nodes)):\n",
    "        W = np.random.randn(layer_nodes[i], layer_nodes[i - 1] + 1)\n",
    "\n",
    "        W_prev_init = np.zeros(shape=(layer_nodes[i], layer_nodes[i - 1] + 1))\n",
    "\n",
    "        weights.append(W)\n",
    "        delta_w_prev.append(W_prev_init)\n",
    "    \n",
    "    return weights, delta_w_prev"
   ]
  },
  {
   "cell_type": "markdown",
   "id": "99f5012f",
   "metadata": {},
   "source": [
    "### Sanity check data generator"
   ]
  },
  {
   "cell_type": "code",
   "execution_count": 3,
   "id": "aa4811d6",
   "metadata": {},
   "outputs": [
    {
     "name": "stdout",
     "output_type": "stream",
     "text": [
      "(3, 100)\n",
      "(3, 100)\n",
      "<class 'numpy.ndarray'>\n",
      "(200,)\n"
     ]
    }
   ],
   "source": [
    "classA, classB, X, target = data_generator(mA=[2.0, 0.3])\n",
    "print(classA.shape)\n",
    "print(classB.shape)\n",
    "print(type(X))\n",
    "print(target.shape)"
   ]
  },
  {
   "cell_type": "code",
   "execution_count": 4,
   "id": "534d6c38",
   "metadata": {},
   "outputs": [
    {
     "data": {
      "image/png": "[encoded data removed]",
      "text/plain": [
       "<Figure size 640x480 with 1 Axes>"
      ]
     },
     "metadata": {},
     "output_type": "display_data"
    }
   ],
   "source": [
    "plt.scatter(classA[0, :], classA[1, :], color=\"blue\", label=\"Class A\")\n",
    "plt.scatter(classB[0, :], classB[1, :], color=\"red\", label=\"Class B\")\n",
    "plt.xlabel(\"x1\")\n",
    "plt.ylabel(\"x2\")\n",
    "plt.legend()\n",
    "plt.show()"
   ]
  },
  {
   "cell_type": "markdown",
   "id": "7adbd84a",
   "metadata": {},
   "source": [
    "## Helper functions"
   ]
  },
  {
   "cell_type": "code",
   "execution_count": 10,
   "id": "045fd485",
   "metadata": {},
   "outputs": [],
   "source": [
    "def mse(targets, predicted):\n",
    "       e = targets - predicted\n",
    "       return 0.5 * np.mean(e**2)"
   ]
  },
  {
   "cell_type": "markdown",
   "id": "4d6c9835",
   "metadata": {},
   "source": [
    "## Generalized delta rule"
   ]
  },
  {
   "cell_type": "code",
   "execution_count": 7,
   "id": "89ee94aa",
   "metadata": {},
   "outputs": [],
   "source": [
    "###### Activation function (as in the lab instructions) #####\n",
    "def activation_function(h_in):\n",
    "    phi = (2 / (1 + np.exp(-h_in))) - 1 #activation function\n",
    "    d_phi = ((1 + phi) * (1 - phi)) / 2 #derrivative of activation function\n",
    "\n",
    "    return phi, d_phi\n",
    "\n",
    "##### Forward pass #####\n",
    "def forward_pass(X, weights):\n",
    "    #print(\"===== Forward pass =====\")\n",
    "    # List to keep track of what should be sent into the following hidden layer\n",
    "    activations_list = [X] # First element is the input, and the last element correspond to the output (i.e. t)\n",
    "    \n",
    "    phi_and_d_phi = [] # Store results of the activation function (both the values and the derivate) \n",
    "\n",
    "    for i, W in enumerate(weights):\n",
    "        #print(f\"Layer {i}: W shape {W.shape}, input shape {activations_list[-1].shape}\")\n",
    "        h_in = W @ activations_list[-1] # Get the output from the latest calculated layer, and use it as input for next layer\n",
    "\n",
    "        # Calcualte output of hidden layer and store both outpout and derivate (they will be used in back propogation)\n",
    "        h_out, d_phi = activation_function(h_in)\n",
    "        #print(f\"Layer {i}: h_out shape {h_out.shape}, d_phi shape {d_phi.shape}\")\n",
    "\n",
    "\n",
    "        phi_and_d_phi.append((h_out, d_phi))\n",
    "\n",
    "        # Calculate bias term and add it to phi (output of the layer), for all layers, except the last one\n",
    "        if i < (len(weights) - 1):\n",
    "            bias_term = h_out.shape[1]\n",
    "            h_out = np.vstack(tup=(h_out, np.ones((1, bias_term))))\n",
    "\n",
    "        activations_list.append(h_out)\n",
    "\n",
    "    return activations_list, phi_and_d_phi\n",
    "\n",
    "##### Backward pass #####\n",
    "def backward_pass(targets, phi_and_d_phi, weights):\n",
    "    #print(\"===== Backward pass =====\")\n",
    "    # Initialize list with the deltas. Makes it easier to call the correct delta when calculating hidden layers delta\n",
    "    deltas = [None] * len(phi_and_d_phi)\n",
    "\n",
    "    # Go through each element of phi_and_d_phi in reversed order. \n",
    "    # In the first iteration, i = len(phi_and_d_phi) - 1 (last element of phi_and_d_phi)\n",
    "    for i, (h_out, d_phi) in reversed(list(enumerate(phi_and_d_phi))):\n",
    "        # We handle output layer (last element of phi_and_d_phi) differently from hidden layers\n",
    "        if i == len(phi_and_d_phi) - 1:\n",
    "            d = (h_out - targets) * d_phi\n",
    "            #print(f\"Layer {i} (output): delta shape {d.shape}\")\n",
    "        else:\n",
    "            v = weights[i + 1][:, :-1] # Drop the weighs for the bias, as the error is calculated based the weighs connecting inputs with nodes in hidden layer, or weighs connecting hiodden layer to outer layer\n",
    "            #print(f\"Layer {i} (hidden): v shape {v.shape}, v_transpose shape {np.transpose(v).shape}, previously calculated delta shape {deltas[i + 1].shape}, d_phi shape {d_phi.shape}\")\n",
    "            d = (np.transpose(v) @ deltas[i + 1]) * d_phi # Here we matrix multiply with the latest calculated delta\n",
    "            #print(f\"Layer {i} (hidden): delta shape {d.shape}\")\n",
    "\n",
    "        deltas[i] = d # Update the None value to the actual delta values, so the last element in deltas = delta for the output layer nodes\n",
    "\n",
    "    return deltas\n",
    "\n",
    "##### Weight update #####\n",
    "def weight_update(alpha, eta, activations, deltas, old_weights, delta_w_prev):\n",
    "    #print(\"===== Weight update =====\")\n",
    "    new_weights = [] # New updated weights\n",
    "    new_delta_w = [] # Output the calculated delta_w which will be outputted and used as delta_w_prev in next epoch\n",
    "\n",
    "    # Going from left to right in the network to update the weights. Only 2 times in our case (X and H, not the output)\n",
    "    for i, old_W in enumerate(old_weights):\n",
    "        #print(\"Update weights in layer: \" + str(i))\n",
    "\n",
    "        delta_w = (delta_w_prev[i] * alpha) - (deltas[i]@np.transpose(activations[i]) * (1 - alpha))\n",
    "        W = old_W + eta * delta_w\n",
    "\n",
    "        new_delta_w.append(delta_w)\n",
    "        new_weights.append(W)\n",
    "\n",
    "    return new_weights, new_delta_w\n",
    "#Question here is: Do we use the activations we used before, or do we cacluate them new, based on the updated weights\n",
    "# Answer; the activations should not be calculated again. In the next epoch we run the model with the new weights and the original input.\n",
    "# These are inputted into the hidden layer, which outputs phi and the derivate of phi. This will be populated in the activation list in the forward pass\n",
    "# as well as the output from the output layer. So basically;\n",
    "# X (input) - never changes\n",
    "# phi(WX) - recalculated in the forward pass each epoch\n",
    "# output - recalculated in the forward pass each epoch\n",
    "# So the list activations will be overwritten each epoch\n",
    "\n"
   ]
  },
  {
   "cell_type": "markdown",
   "id": "1fa25f1c",
   "metadata": {},
   "source": [
    "## Testing"
   ]
  },
  {
   "cell_type": "code",
   "execution_count": 18,
   "id": "1578eeb0",
   "metadata": {},
   "outputs": [
    {
     "name": "stdout",
     "output_type": "stream",
     "text": [
      "(5, 200)\n",
      "(3, 200)\n",
      "(5, 3)\n",
      "Sanity check that weights are updated\n",
      "First weights: [array([[ 0.16882244, -0.16308412,  1.16851578],\n",
      "       [ 0.36062206,  0.08703025,  0.49959269],\n",
      "       [-0.5373624 ,  0.37852216,  0.46579103],\n",
      "       [-0.89100152,  1.31237657,  0.81343716],\n",
      "       [-1.43746622, -0.736101  ,  0.99790674]]), array([[-0.13436747,  0.3816465 , -0.86879905,  0.41646414, -2.01347348,\n",
      "        -0.5729806 ]])]\n",
      "Updated weights: [array([[ 0.16942303, -0.16332537,  1.16812905],\n",
      "       [ 0.35861679,  0.08782346,  0.50061846],\n",
      "       [-0.5383907 ,  0.37696386,  0.4647211 ],\n",
      "       [-0.88916185,  1.31297427,  0.81335938],\n",
      "       [-1.44032496, -0.73719587,  1.00301296]]), array([[-0.13146975,  0.3820762 , -0.8660051 ,  0.41979919, -2.01413005,\n",
      "        -0.56584191]])]\n",
      "(200,)\n",
      "[-1.  1. -1. -1. -1.  1. -1. -1.  1.  1.  1. -1.  1.  1.  1.  1. -1.  1.\n",
      "  1.  1.  1. -1. -1. -1. -1. -1. -1.  1.  1. -1. -1.  1.  1.  1.  1.  1.\n",
      " -1.  1. -1.  1.  1.  1. -1.  1. -1.  1.  1. -1.  1. -1. -1.  1.  1. -1.\n",
      " -1. -1. -1. -1. -1.  1.  1. -1. -1. -1.  1. -1.  1.  1. -1.  1.  1. -1.\n",
      "  1. -1. -1.  1.  1.  1. -1. -1. -1. -1.  1. -1. -1. -1.  1. -1. -1. -1.\n",
      "  1. -1.  1. -1.  1.  1.  1. -1. -1. -1.  1. -1.  1.  1.  1. -1. -1.  1.\n",
      "  1.  1.  1. -1. -1. -1. -1. -1. -1.  1.  1.  1. -1.  1.  1. -1.  1. -1.\n",
      "  1. -1. -1. -1. -1.  1.  1.  1. -1.  1. -1.  1.  1. -1.  1. -1. -1.  1.\n",
      " -1. -1. -1. -1.  1.  1.  1. -1.  1.  1.  1.  1.  1. -1. -1.  1. -1. -1.\n",
      " -1. -1.  1. -1.  1. -1.  1. -1. -1.  1.  1.  1. -1. -1.  1.  1.  1. -1.\n",
      " -1.  1. -1.  1. -1.  1. -1.  1. -1. -1.  1.  1.  1. -1.  1.  1.  1. -1.\n",
      "  1. -1.]\n",
      "(200,)\n",
      "[-0.32848494  0.48266054 -0.52627385 -0.5397565  -0.4686448   1.88030995\n",
      " -0.29444374 -0.41016971  1.87642525  1.8721423   0.39580862 -0.60078886\n",
      "  1.89086235  0.4563461   0.48996349  1.87373785 -0.45877835  1.89766293\n",
      "  0.41822556  0.43966907  0.43595844 -0.38649658 -0.32090255 -0.31431133\n",
      " -0.18489116 -0.31939536 -0.32294966  1.89452539  0.57283512 -0.29469593\n",
      " -0.41541329  1.89097331  1.88338419  0.47914301  1.86454633  0.42169361\n",
      " -0.21295127  1.88407326 -0.32467234  1.89289409  0.57886576  1.86091631\n",
      " -0.76380695  0.49537163 -0.78553594  0.45264424  1.8863007  -0.21184967\n",
      "  1.89174491 -0.54258912 -0.31082366  1.88959956  1.88359976 -0.31778173\n",
      " -0.41627178 -0.29501404 -0.28751091 -0.30293362 -0.34970629  0.42162895\n",
      "  1.87692838 -0.27398591 -0.23862804 -0.69933421  0.43033381 -0.1688571\n",
      "  0.40932777  1.8823246  -0.26081114  1.89082336  0.44676954 -0.31983634\n",
      "  1.87796993 -0.28535828 -0.22759867  0.43371857  1.8945696   0.46263348\n",
      " -0.23720449 -0.32169051 -0.32492049 -0.4223374   1.8895944  -0.52519244\n",
      " -0.20589065 -0.2289651   0.53249108 -0.3128289  -0.46199281 -0.41076456\n",
      "  0.4394369  -0.54062578  1.8840708  -0.25307467  0.52672706  0.51863212\n",
      "  0.45715796 -0.26765374 -0.33570622 -0.60337821  0.48602088 -0.26897357\n",
      "  0.50529095  1.87997045  0.56200067 -0.34278903 -0.17010112  1.88399252\n",
      "  0.53383397  0.40444324  0.37309851 -0.31816127 -0.64041135 -0.3921455\n",
      " -0.49513473 -0.31198599 -0.21592216  0.43140234  0.39358318  0.36327635\n",
      " -0.64553577  1.88760747  1.89231501 -0.2434866   0.45937765 -0.24759726\n",
      "  0.53483767 -0.22980389 -0.454945   -0.51177034 -0.352305    0.4469639\n",
      "  0.46359628  0.40540737 -0.22757767  1.88281345 -0.23858943  1.87890308\n",
      "  0.42444798 -0.23775081  0.42347121 -0.38274099 -0.58985625  0.46365364\n",
      " -0.23888619 -0.41082656 -0.55153409 -0.25348371  1.87177686  1.88311341\n",
      "  1.88890027 -0.35088973  1.8707544   1.88963491  1.89414289  1.88606185\n",
      "  1.89003466 -0.42271483 -0.25119163  1.86863515 -0.17519334 -0.36442041\n",
      " -0.21559225 -0.22128994  0.51358095 -0.51140658  1.87505018 -0.34083861\n",
      "  0.52130573 -0.26614051 -0.55378596  0.56759809  1.8880285   1.88757522\n",
      " -0.32245767 -0.28385654  1.89281256  0.45013965  1.87183353 -0.6385906\n",
      " -0.32534324  1.88888575 -0.49788483  1.88218313 -0.37420581  1.88647368\n",
      " -0.47612047  1.87831192 -0.38161871 -0.31952583  0.49718182  0.47641272\n",
      "  0.48131452 -0.3724703   0.43601363  0.56356069  1.8863397  -0.26205987\n",
      "  1.89144482 -0.33510884]\n",
      "<class 'numpy.ndarray'>\n",
      "<class 'numpy.ndarray'>\n"
     ]
    }
   ],
   "source": [
    "classA, classB, X, targets = data_generator(mA=[2.0, 0.3])\n",
    "# Create weights for 2 perceptron layer (1 hidden layer and 1 output layer)\n",
    "weights, delta_w_prev = weight_generator(X_dim_wo_bias=X.shape[0] - 1, hidden_nodes=[5], output_nodes=1)\n",
    "\n",
    "# Forward pass\n",
    "activation_list, phi_and_d_phi = forward_pass(X=X, weights=weights)\n",
    "\n",
    "# Backward pass\n",
    "deltas = backward_pass(targets=targets, phi_and_d_phi=phi_and_d_phi, weights=weights)\n",
    "\n",
    "# Update weights\n",
    "weights_updated, delta_w_prev = weight_update(alpha=0.9, eta = 0.01, deltas=deltas, activations=activation_list, old_weights=weights, delta_w_prev=delta_w_prev)\n",
    "\n",
    "print(deltas[0].shape)\n",
    "print(activation_list[0].shape)\n",
    "print(weights[0].shape)\n",
    "print(\"Sanity check that weights are updated\")\n",
    "print(f\"First weights: {weights}\")\n",
    "print(f\"Updated weights: {weights_updated}\")\n",
    "\n",
    "print(targets.shape)\n",
    "print(targets)\n",
    "print(activation_list[-1].ravel().shape)\n",
    "\n",
    "print(targets - activation_list[-1].ravel())\n",
    "\n",
    "print(type(targets))\n",
    "print(type(activation_list[-1]))\n",
    "\n",
    "\n"
   ]
  },
  {
   "cell_type": "code",
   "execution_count": 10,
   "id": "a0d935f2",
   "metadata": {},
   "outputs": [
    {
     "name": "stdout",
     "output_type": "stream",
     "text": [
      "(3, 200)\n",
      "(6, 200)\n",
      "(1, 200)\n"
     ]
    }
   ],
   "source": [
    "for i in activation_list:\n",
    "    print(i.shape)"
   ]
  },
  {
   "cell_type": "code",
   "execution_count": 11,
   "id": "af8547fa",
   "metadata": {},
   "outputs": [
    {
     "name": "stdout",
     "output_type": "stream",
     "text": [
      "(5, 3)\n",
      "(1, 6)\n"
     ]
    }
   ],
   "source": [
    "for i in weights:\n",
    "    print(i.shape)"
   ]
  },
  {
   "cell_type": "code",
   "execution_count": 12,
   "id": "d40e5194",
   "metadata": {},
   "outputs": [
    {
     "name": "stdout",
     "output_type": "stream",
     "text": [
      "[[1. 1.]\n",
      " [1. 1.]]\n",
      "[[-0.8295026  -1.20101294]\n",
      " [-0.11187847 -0.23638575]]\n",
      "[[-0.8295026  -1.20101294]\n",
      " [-0.11187847 -0.23638575]]\n"
     ]
    }
   ],
   "source": [
    "a = np.ones(shape=(2, 2))\n",
    "b = np.random.randn(2, 2)\n",
    "print(a)\n",
    "print(b)\n",
    "print(a*b)"
   ]
  },
  {
   "cell_type": "code",
   "execution_count": 17,
   "id": "dcbe306d-1a71-47bd-9e29-d6f6e6a30749",
   "metadata": {},
   "outputs": [],
   "source": [
    "# Add function to check how well the classifier does\n",
    "def accuracy(out, labels):\n",
    "    pred = np.where(out>0, 1, 0)\n",
    "    true = np.where(labels>0, 1, 0)\n",
    "    acc = np.count_nonzero(pred == true) / labels.size\n",
    "    return acc\n",
    "\n",
    "def mse_network(out, labels):\n",
    "    e = out - labels  \n",
    "    return 0.5 * np.mean(e**2)\n",
    "    "
   ]
  },
  {
   "cell_type": "code",
   "execution_count": 87,
   "id": "21ad7887",
   "metadata": {},
   "outputs": [],
   "source": [
    "weights = weight_generator(X_dim_wo_bias=X.shape[0] - 1, hidden_nodes=[5], output_nodes=1)\n",
    "v = weights[1][:, :-1]\n",
    "\n",
    "\n",
    "\n",
    "def generalised_delta_rule(X, targets, epoch:int = 100, eta:float = 0.01):\n",
    "\n",
    "    weights = weight_generator(X_dim_wo_bias=X.shape[0] - 1, hidden_nodes=[5], output_nodes=1)\n",
    "\n",
    "    for i in range(epoch):\n",
    "        \n",
    "        \n",
    "        activation_list, phi_and_d_phi = forward_pass(X=X, weights=weights)\n",
    "        \n",
    "        deltas = backward_pass(targets=targets, phi_and_d_phi=phi_and_d_phi, weights=weights)\n",
    "        \n",
    "        weights, _ = weight_update_momentum(eta = eta, deltas=deltas, activations=activation_list,weights=weights)\n",
    "\n",
    "        # Print training accuracy every 10 epochs\n",
    "        if i%10 == 0:\n",
    "            print(\"Epoch {} training accuracy : {:.2f}, mse: {:.2f}\".format(i, accuracy(activation_list[-1], targets) * 100, ms))"
   ]
  },
  {
   "cell_type": "code",
   "execution_count": null,
   "id": "8ab90805-7f02-469f-9383-002eae66b54c",
   "metadata": {},
   "outputs": [],
   "source": []
  },
  {
   "cell_type": "markdown",
   "id": "0170f8eb-1585-4467-9dc7-107abd569a25",
   "metadata": {},
   "source": [
    " ## Testing the backprop"
   ]
  },
  {
   "cell_type": "code",
   "execution_count": 90,
   "id": "4a337789-a097-4a82-9c1d-d07d5ba26e90",
   "metadata": {},
   "outputs": [
    {
     "name": "stdout",
     "output_type": "stream",
     "text": [
      "Training accuracy epoch 0: 56.50\n",
      "Training accuracy epoch 10: 93.00\n",
      "Training accuracy epoch 20: 99.00\n",
      "Training accuracy epoch 30: 100.00\n",
      "Training accuracy epoch 40: 100.00\n",
      "Training accuracy epoch 50: 100.00\n",
      "Training accuracy epoch 60: 100.00\n",
      "Training accuracy epoch 70: 100.00\n",
      "Training accuracy epoch 80: 100.00\n",
      "Training accuracy epoch 90: 100.00\n"
     ]
    }
   ],
   "source": [
    "classA, classB, X, targets = data_generator(mA=[2.0, 0.3])\n",
    "generalised_delta_rule(X, targets, eta=0.01)"
   ]
  },
  {
   "cell_type": "code",
   "execution_count": null,
   "id": "5b1f01f1-9416-4d65-b30a-bbd84ade27b7",
   "metadata": {},
   "outputs": [],
   "source": []
  },
  {
   "cell_type": "code",
   "execution_count": null,
   "id": "a88616c9-95a1-4776-ae65-836b24d5fd6d",
   "metadata": {},
   "outputs": [],
   "source": []
  }
 ],
 "metadata": {
  "kernelspec": {
   "display_name": ".venv",
   "language": "python",
   "name": "python3"
  },
  "language_info": {
   "codemirror_mode": {
    "name": "ipython",
    "version": 3
   },
   "file_extension": ".py",
   "mimetype": "text/x-python",
   "name": "python",
   "nbconvert_exporter": "python",
   "pygments_lexer": "ipython3",
   "version": "3.12.7"
  }
 },
 "nbformat": 4,
 "nbformat_minor": 5
}
