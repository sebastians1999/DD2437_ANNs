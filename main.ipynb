{
 "cells": [
  {
   "cell_type": "markdown",
   "metadata": {},
   "source": [
    "# Lab 1a"
   ]
  },
  {
   "cell_type": "code",
   "execution_count": 1,
   "metadata": {},
   "outputs": [],
   "source": [
    "import numpy as np\n",
    "\n",
    "n = 100\n",
    "mA = [1.0, 0.5]\n",
    "mB = [-3.0, 0.0]\n",
    "sigmaA = 0.8\n",
    "sigmaB = 0.7\n",
    "\n",
    "classA = np.random.randn(n, 2) * sigmaA + mA\n",
    "classB = np.random.randn(n, 2) * sigmaB + mB\n",
    "\n",
    "classA = classA.transpose()\n",
    "classB = classB.transpose()"
   ]
  },
  {
   "cell_type": "code",
   "execution_count": 2,
   "metadata": {},
   "outputs": [
    {
     "name": "stdout",
     "output_type": "stream",
     "text": [
      "(2, 100)\n"
     ]
    }
   ],
   "source": [
    "print(classA.shape)"
   ]
  },
  {
   "cell_type": "code",
   "execution_count": 3,
   "metadata": {},
   "outputs": [
    {
     "data": {
      "image/png": "[encoded data removed]",
      "text/plain": [
       "<Figure size 640x480 with 1 Axes>"
      ]
     },
     "metadata": {},
     "output_type": "display_data"
    }
   ],
   "source": [
    "import matplotlib.pyplot as plt\n",
    "\n",
    "plt.scatter(classA[0, :], classA[1, :], color=\"blue\", label=\"Class A\")\n",
    "plt.scatter(classB[0, :], classB[1, :], color=\"red\", label=\"Class B\")\n",
    "plt.xlabel(\"x1\")\n",
    "plt.ylabel(\"x2\")\n",
    "plt.legend()\n",
    "plt.show()\n",
    "\n",
    "\n"
   ]
  },
  {
   "cell_type": "code",
   "execution_count": 4,
   "metadata": {},
   "outputs": [],
   "source": [
    "# Create input data, with bias term (one extra dimension)\n",
    "classABias = np.concatenate((classA, np.ones((1, n))), axis=0)\n",
    "classBBias = np.concatenate((classB, np.ones((1, n))), axis=0)\n",
    "\n",
    "# This is our input data (2 classes, with 2 dimensions for visualizatio in 2D plane + 1 deminsion for the bias term)\n",
    "patterns = np.concatenate((classABias, classBBias), axis=1)\n",
    "\n",
    "# Shuffle the inpput and target data, so we mix the classes\n",
    "shuffled_indices = np.random.permutation(patterns.shape[1])\n",
    "\n",
    "# Input data\n",
    "patterns_shuffled = patterns[:, shuffled_indices]\n",
    "\n",
    "# Target data (delta rule)\n",
    "targetsDelta = np.concatenate((np.ones(classA.shape[1]), -np.ones(classB.shape[1])))\n",
    "targetsDelta_shuffled = targetsDelta[shuffled_indices]\n",
    "\n",
    "# Target data (perceptron rule)\n",
    "targetsPerc = np.concatenate((np.ones(classA.shape[1]), np.zeros(classB.shape[1])))\n",
    "targetsPerc_shuffled = targetsPerc[shuffled_indices]"
   ]
  },
  {
   "cell_type": "code",
   "execution_count": 5,
   "metadata": {},
   "outputs": [],
   "source": [
    "def plot_classifier(ClassA, ClassB, w):\n",
    "    slope = -w[0, 0]/w[0, 1]  #The slope of the boundary\n",
    "    constant_term = -w[0, 2]/w[0, 1] #The constant term of the linear equation \n",
    "\n",
    "    boundary_x = np.linspace(-2, 1, num=100, endpoint=True, retstep=False, dtype=None, axis=0, device=None)\n",
    "    boundary_y = slope * boundary_x + constant_term\n",
    "\n",
    "\n",
    "    plt.scatter(classA[0, :], classA[1, :], color=\"blue\", label=\"Class A\")\n",
    "    plt.scatter(classB[0, :], classB[1, :], color=\"red\", label=\"Class B\")\n",
    "    plt.plot(boundary_x, boundary_y, color=\"black\", label=\"Boundary\")\n",
    "    plt.ylim(classA[1, :].min(), classA[1, :].max())\n",
    "    plt.xlabel(\"x1\")\n",
    "    plt.ylabel(\"x2\")\n",
    "    plt.legend()\n",
    "    plt.show()"
   ]
  },
  {
   "cell_type": "code",
   "execution_count": 6,
   "metadata": {},
   "outputs": [
    {
     "name": "stdout",
     "output_type": "stream",
     "text": [
      "(3, 200)\n"
     ]
    }
   ],
   "source": [
    "print(patterns_shuffled.shape)"
   ]
  },
  {
   "cell_type": "code",
   "execution_count": 7,
   "metadata": {},
   "outputs": [],
   "source": [
    "def treshold(y_pred):\n",
    "    if y_pred > 0:\n",
    "        return 1\n",
    "    else:\n",
    "        return 0\n",
    "\n",
    "# Perceptron rule\n",
    "def perceptron_rule(x, y, create_plot: bool = False):\n",
    "    eta = 0.01\n",
    "    # w = np.random.rand(1,3) # use this to insert randomness (will show how it iterates through until it finds a solution). Use this for presentation\n",
    "    w = np.zeros((1,3))\n",
    "\n",
    "    n = x.shape[1]\n",
    "    convergence = False\n",
    "    counter = 0\n",
    "\n",
    "    while convergence != True:\n",
    "        convergence = True\n",
    "\n",
    "        for i in range(n):\n",
    "            y_pred = np.dot(w, x[:, i])\n",
    "\n",
    "            t_target = treshold(y_pred)\n",
    "\n",
    "            if t_target == y[i]:\n",
    "                continue\n",
    "            elif t_target == 0 and y[i] == 1:\n",
    "                w_delta = x[:, i] * eta\n",
    "                convergence = False\n",
    "            else:\n",
    "                w_delta = x[:, i] * -eta\n",
    "                convergence = False\n",
    "\n",
    "            # Update weights\n",
    "            w = w + np.transpose(w_delta)\n",
    "\n",
    "            if not convergence and create_plot:\n",
    "                plot_classifier(ClassA=classA, ClassB=classB, w=w)\n",
    "            counter += 1\n",
    "    return w, counter"
   ]
  },
  {
   "cell_type": "code",
   "execution_count": 8,
   "metadata": {},
   "outputs": [
    {
     "name": "stdout",
     "output_type": "stream",
     "text": [
      "(array([[ 0.04005257, -0.00719923,  0.05      ]]), 35)\n"
     ]
    }
   ],
   "source": [
    "print(perceptron_rule(x=patterns_shuffled, y=targetsPerc_shuffled, create_plot = False))"
   ]
  },
  {
   "cell_type": "markdown",
   "metadata": {},
   "source": [
    "# Delta Rule"
   ]
  },
  {
   "cell_type": "code",
   "execution_count": 9,
   "metadata": {},
   "outputs": [],
   "source": [
    "# import numpy as np\n",
    "\n",
    "# n = 100\n",
    "# mA = [1.0, 0.5]\n",
    "# mB = [-3.0, 0.0]\n",
    "# sigmaA = 0.8\n",
    "# sigmaB = 0.9\n",
    "\n",
    "# classA = np.random.randn(n, 2) * sigmaA + mA\n",
    "# classB = np.random.randn(n, 2) * sigmaB + mB\n",
    "\n",
    "# classA = classA.transpose()\n",
    "# classB = classB.transpose()"
   ]
  },
  {
   "cell_type": "code",
   "execution_count": 10,
   "metadata": {},
   "outputs": [],
   "source": [
    "# import matplotlib.pyplot as plt\n",
    "\n",
    "# plt.scatter(classA[0, :], classA[1, :], color=\"blue\", label=\"Class A\")\n",
    "# plt.scatter(classB[0, :], classB[1, :], color=\"red\", label=\"Class B\")\n",
    "# plt.xlabel(\"x1\")\n",
    "# plt.ylabel(\"x2\")\n",
    "# plt.legend()\n",
    "# plt.show()\n"
   ]
  },
  {
   "cell_type": "code",
   "execution_count": 11,
   "metadata": {},
   "outputs": [],
   "source": [
    "# # Create input data, with bias term (one extra dimension)\n",
    "# classABias = np.concatenate((classA, np.ones((1, n))), axis=0)\n",
    "# classBBias = np.concatenate((classB, np.ones((1, n))), axis=0)\n",
    "\n",
    "# # This is our input data (2 classes, with 2 dimensions for visualizatio in 2D plane + 1 deminsion for the bias term)\n",
    "# patterns = np.concatenate((classABias, classBBias), axis=1)\n",
    "\n",
    "# # Shuffle the inpput and target data, so we mix the classes\n",
    "# shuffled_indices = np.random.permutation(patterns.shape[1])\n",
    "\n",
    "# # Input data\n",
    "# patterns_shuffled = patterns[:, shuffled_indices]\n",
    "\n",
    "# # Target data (delta rule)\n",
    "# targetsDelta = np.concatenate((np.ones(classA.shape[1]), -np.ones(classB.shape[1])))\n",
    "# targetsDelta_shuffled = targetsDelta[shuffled_indices]"
   ]
  },
  {
   "cell_type": "code",
   "execution_count": 12,
   "metadata": {},
   "outputs": [],
   "source": [
    "def delta_rule_batch(epoch, x, y, eta: int = 0.001, create_plot: bool = False):\n",
    "\n",
    "    w = np.zeros((1,3))\n",
    "\n",
    "    for e in range(epoch):\n",
    "        w_delta=-eta*(w @ x-y) @ np.transpose(x)\n",
    "        w = w + w_delta\n",
    "        if create_plot: \n",
    "            plot_classifier(ClassA= classA, ClassB=classB, w=w)\n",
    "\n",
    "\n",
    "    return w"
   ]
  },
  {
   "cell_type": "code",
   "execution_count": 13,
   "metadata": {},
   "outputs": [],
   "source": [
    "def delta_rule_online(epoch, x, y, eta: int = 0.001, create_plot: bool = False):\n",
    "\n",
    "    w = np.zeros((1,3))\n",
    "    epoch_reached = False\n",
    "    epoch_count = 0\n",
    "\n",
    "\n",
    "    while not epoch_reached: \n",
    "\n",
    "        for i in range(len(x[0])):\n",
    "\n",
    "            w_delta = -eta*x[:,i] * (w @ x[:,i] - y[i])\n",
    "            w = w + w_delta\n",
    "\n",
    "            if create_plot: \n",
    "                plot_classifier(ClassA=classA, ClassB=classB, w=w)\n",
    "\n",
    "        epoch_count +=1\n",
    "\n",
    "        if epoch_count == epoch: \n",
    "            epoch_reached = True\n",
    "\n",
    "        return w"
   ]
  },
  {
   "cell_type": "code",
   "execution_count": 26,
   "metadata": {},
   "outputs": [],
   "source": [
    "w_delta_online=delta_rule_online(epoch=2000,x=patterns_shuffled, y=targetsDelta_shuffled, create_plot= False)\n",
    "w_perceptron, _=perceptron_rule(x=patterns_shuffled, y=targetsPerc_shuffled, create_plot = False)\n",
    "w_delta_batch= delta_rule_batch(epoch=2000,x=patterns_shuffled, y=targetsDelta_shuffled, create_plot = False)"
   ]
  },
  {
   "cell_type": "code",
   "execution_count": 30,
   "metadata": {},
   "outputs": [
    {
     "name": "stdout",
     "output_type": "stream",
     "text": [
      "[[0.44997261 0.01233578 0.44536925]] [[0.23963062 0.03316935 0.02564305]] [[ 0.04005257 -0.00719923  0.05      ]]\n"
     ]
    }
   ],
   "source": [
    "print(w_delta_batch,w_delta_online,w_perceptron)"
   ]
  },
  {
   "cell_type": "code",
   "execution_count": 27,
   "metadata": {},
   "outputs": [],
   "source": [
    "\n",
    "def calculate_boundary(w):\n",
    "   \n",
    "   slope = -w[0, 0]/w[0, 1]  #The slope of the boundary\n",
    "   constant_term = -w[0, 2]/w[0, 1] #The constant term of the linear equation \n",
    "\n",
    "   boundary_x = np.linspace(patterns_shuffled.min(), patterns_shuffled.max(), num=100, endpoint=True, retstep=False, dtype=None, axis=0, device=None)\n",
    "   boundary_y = slope * boundary_x + constant_term\n",
    "\n",
    "   return boundary_x, boundary_y\n"
   ]
  },
  {
   "cell_type": "code",
   "execution_count": 28,
   "metadata": {},
   "outputs": [],
   "source": [
    "delta_bound_online = calculate_boundary(w_delta_online)\n",
    "perceptron_bound= calculate_boundary(w_perceptron)\n",
    "delta_bound_batch=calculate_boundary(w_delta_batch)"
   ]
  },
  {
   "cell_type": "code",
   "execution_count": 29,
   "metadata": {},
   "outputs": [
    {
     "data": {
      "image/png": "[encoded data removed]",
      "text/plain": [
       "<Figure size 640x480 with 1 Axes>"
      ]
     },
     "metadata": {},
     "output_type": "display_data"
    }
   ],
   "source": [
    "plt.scatter(classA[0, :], classA[1, :], color=\"blue\", label=\"Class A\")\n",
    "plt.scatter(classB[0, :], classB[1, :], color=\"red\", label=\"Class B\")\n",
    "plt.plot(perceptron_bound[0],perceptron_bound[1], color=\"green\", label=\"Perceptron Boundary\")\n",
    "plt.plot(delta_bound_batch[0],delta_bound_batch[1], color=\"black\", label=\"Delta Online Boundary\")\n",
    "plt.plot(delta_bound_online[0],delta_bound_online[1], color=\"orange\", label=\"Delta Batch Boundary\")\n",
    "plt.ylim(classA[1, :].min(), classA[1, :].max())\n",
    "plt.xlabel(\"x1\")\n",
    "plt.ylabel(\"x2\")\n",
    "plt.legend()\n",
    "plt.show()"
   ]
  }
 ],
 "metadata": {
  "kernelspec": {
   "display_name": "dd2437",
   "language": "python",
   "name": "python3"
  },
  "language_info": {
   "codemirror_mode": {
    "name": "ipython",
    "version": 3
   },
   "file_extension": ".py",
   "mimetype": "text/x-python",
   "name": "python",
   "nbconvert_exporter": "python",
   "pygments_lexer": "ipython3",
   "version": "3.11.13"
  }
 },
 "nbformat": 4,
 "nbformat_minor": 2
}
